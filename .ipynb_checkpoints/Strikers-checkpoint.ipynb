{
 "cells": [
  {
   "cell_type": "code",
   "execution_count": 1,
   "metadata": {},
   "outputs": [],
   "source": [
    "#Importing Libraries Used\n",
    "import pandas as pd \n",
    "import numpy as np\n",
    "import matplotlib as mpl\n",
    "import matplotlib.pyplot as plt\n",
    "import plotly as py\n",
    "import plotly.graph_objects as go\n"
   ]
  },
  {
   "cell_type": "code",
   "execution_count": 2,
   "metadata": {},
   "outputs": [],
   "source": [
    "#Reading the data and creating a dataframe\n",
    "data = pd.read_csv('final.csv', encoding='latin1')\n",
    "SD = pd.DataFrame(data)"
   ]
  },
  {
   "cell_type": "code",
   "execution_count": 3,
   "metadata": {
    "scrolled": true
   },
   "outputs": [
    {
     "data": {
      "text/html": [
       "<div>\n",
       "<style scoped>\n",
       "    .dataframe tbody tr th:only-of-type {\n",
       "        vertical-align: middle;\n",
       "    }\n",
       "\n",
       "    .dataframe tbody tr th {\n",
       "        vertical-align: top;\n",
       "    }\n",
       "\n",
       "    .dataframe thead th {\n",
       "        text-align: right;\n",
       "    }\n",
       "</style>\n",
       "<table border=\"1\" class=\"dataframe\">\n",
       "  <thead>\n",
       "    <tr style=\"text-align: right;\">\n",
       "      <th></th>\n",
       "      <th>player_name</th>\n",
       "      <th>Season</th>\n",
       "      <th>was_home</th>\n",
       "      <th>assists_(per_90)</th>\n",
       "      <th>attempted_passes_(per_90)</th>\n",
       "      <th>big_chances_created_(per_90)</th>\n",
       "      <th>big_chances_missed_(per_90)</th>\n",
       "      <th>completed_passes_(per_90)</th>\n",
       "      <th>dribbles_(per_90)</th>\n",
       "      <th>goals_scored_(per_90)</th>\n",
       "      <th>key_passes_(per_90)</th>\n",
       "      <th>offside_(per_90)</th>\n",
       "      <th>tackled/lost_possession_(per_90)</th>\n",
       "      <th>target_missed_(per_90)</th>\n",
       "      <th>winning_goals_(per_90)</th>\n",
       "      <th>tackles_(per_90)</th>\n",
       "      <th>red_cards_(per_90)</th>\n",
       "      <th>yellow_cards_(per_90)</th>\n",
       "    </tr>\n",
       "  </thead>\n",
       "  <tbody>\n",
       "    <tr>\n",
       "      <th>0</th>\n",
       "      <td>Aleksandar Mitrovic (18/19)</td>\n",
       "      <td>18/19</td>\n",
       "      <td>1</td>\n",
       "      <td>0.054054</td>\n",
       "      <td>28.270270</td>\n",
       "      <td>0.108108</td>\n",
       "      <td>0.486486</td>\n",
       "      <td>20.270270</td>\n",
       "      <td>0.648649</td>\n",
       "      <td>0.162162</td>\n",
       "      <td>0.540541</td>\n",
       "      <td>0.864865</td>\n",
       "      <td>3.459459</td>\n",
       "      <td>1.297297</td>\n",
       "      <td>0.054054</td>\n",
       "      <td>0.108108</td>\n",
       "      <td>0.0</td>\n",
       "      <td>0.216216</td>\n",
       "    </tr>\n",
       "    <tr>\n",
       "      <th>1</th>\n",
       "      <td>Aleksandar Mitrovic (18/19)</td>\n",
       "      <td>18/19</td>\n",
       "      <td>0</td>\n",
       "      <td>0.167183</td>\n",
       "      <td>28.086687</td>\n",
       "      <td>0.222910</td>\n",
       "      <td>0.390093</td>\n",
       "      <td>20.284830</td>\n",
       "      <td>0.613003</td>\n",
       "      <td>0.445820</td>\n",
       "      <td>1.226006</td>\n",
       "      <td>1.003096</td>\n",
       "      <td>2.674923</td>\n",
       "      <td>1.839009</td>\n",
       "      <td>0.222910</td>\n",
       "      <td>0.278638</td>\n",
       "      <td>0.0</td>\n",
       "      <td>0.167183</td>\n",
       "    </tr>\n",
       "    <tr>\n",
       "      <th>2</th>\n",
       "      <td>Alexandre Lacazette (18/19)</td>\n",
       "      <td>18/19</td>\n",
       "      <td>1</td>\n",
       "      <td>0.492252</td>\n",
       "      <td>26.745670</td>\n",
       "      <td>0.164084</td>\n",
       "      <td>0.164084</td>\n",
       "      <td>19.772106</td>\n",
       "      <td>1.476755</td>\n",
       "      <td>0.328168</td>\n",
       "      <td>1.148587</td>\n",
       "      <td>0.984503</td>\n",
       "      <td>2.543300</td>\n",
       "      <td>1.066545</td>\n",
       "      <td>0.246126</td>\n",
       "      <td>0.328168</td>\n",
       "      <td>0.0</td>\n",
       "      <td>0.000000</td>\n",
       "    </tr>\n",
       "    <tr>\n",
       "      <th>3</th>\n",
       "      <td>Alexandre Lacazette (18/19)</td>\n",
       "      <td>18/19</td>\n",
       "      <td>0</td>\n",
       "      <td>0.385714</td>\n",
       "      <td>28.478571</td>\n",
       "      <td>0.257143</td>\n",
       "      <td>0.578571</td>\n",
       "      <td>28.414286</td>\n",
       "      <td>1.735714</td>\n",
       "      <td>0.578571</td>\n",
       "      <td>1.092857</td>\n",
       "      <td>0.771429</td>\n",
       "      <td>3.342857</td>\n",
       "      <td>1.221429</td>\n",
       "      <td>0.385714</td>\n",
       "      <td>0.450000</td>\n",
       "      <td>0.0</td>\n",
       "      <td>0.128571</td>\n",
       "    </tr>\n",
       "    <tr>\n",
       "      <th>4</th>\n",
       "      <td>Ashley Barnes (18/19)</td>\n",
       "      <td>18/19</td>\n",
       "      <td>1</td>\n",
       "      <td>0.083799</td>\n",
       "      <td>18.938547</td>\n",
       "      <td>0.251397</td>\n",
       "      <td>0.418994</td>\n",
       "      <td>11.312849</td>\n",
       "      <td>0.251397</td>\n",
       "      <td>0.502793</td>\n",
       "      <td>0.670391</td>\n",
       "      <td>0.921788</td>\n",
       "      <td>2.178771</td>\n",
       "      <td>0.586592</td>\n",
       "      <td>0.083799</td>\n",
       "      <td>0.335196</td>\n",
       "      <td>0.0</td>\n",
       "      <td>0.335196</td>\n",
       "    </tr>\n",
       "    <tr>\n",
       "      <th>5</th>\n",
       "      <td>Ashley Barnes (18/19)</td>\n",
       "      <td>18/19</td>\n",
       "      <td>0</td>\n",
       "      <td>0.138037</td>\n",
       "      <td>20.084356</td>\n",
       "      <td>0.207055</td>\n",
       "      <td>0.483129</td>\n",
       "      <td>11.871166</td>\n",
       "      <td>0.207055</td>\n",
       "      <td>0.414110</td>\n",
       "      <td>0.966258</td>\n",
       "      <td>0.759202</td>\n",
       "      <td>1.380368</td>\n",
       "      <td>0.966258</td>\n",
       "      <td>0.069018</td>\n",
       "      <td>0.483129</td>\n",
       "      <td>0.0</td>\n",
       "      <td>0.276074</td>\n",
       "    </tr>\n",
       "    <tr>\n",
       "      <th>6</th>\n",
       "      <td>Ayoze Perez (18/19)</td>\n",
       "      <td>18/19</td>\n",
       "      <td>1</td>\n",
       "      <td>0.064516</td>\n",
       "      <td>23.290323</td>\n",
       "      <td>0.193548</td>\n",
       "      <td>0.193548</td>\n",
       "      <td>17.612903</td>\n",
       "      <td>1.612903</td>\n",
       "      <td>0.193548</td>\n",
       "      <td>1.354839</td>\n",
       "      <td>0.258065</td>\n",
       "      <td>3.096774</td>\n",
       "      <td>0.322581</td>\n",
       "      <td>0.064516</td>\n",
       "      <td>0.322581</td>\n",
       "      <td>0.0</td>\n",
       "      <td>0.064516</td>\n",
       "    </tr>\n",
       "    <tr>\n",
       "      <th>7</th>\n",
       "      <td>Ayoze Perez (18/19)</td>\n",
       "      <td>18/19</td>\n",
       "      <td>0</td>\n",
       "      <td>0.059172</td>\n",
       "      <td>24.792899</td>\n",
       "      <td>0.118343</td>\n",
       "      <td>0.177515</td>\n",
       "      <td>19.053254</td>\n",
       "      <td>1.183432</td>\n",
       "      <td>0.532544</td>\n",
       "      <td>1.479290</td>\n",
       "      <td>0.295858</td>\n",
       "      <td>3.550296</td>\n",
       "      <td>0.710059</td>\n",
       "      <td>0.177515</td>\n",
       "      <td>0.355030</td>\n",
       "      <td>0.0</td>\n",
       "      <td>0.059172</td>\n",
       "    </tr>\n",
       "    <tr>\n",
       "      <th>8</th>\n",
       "      <td>Callum Wilson (18/19)</td>\n",
       "      <td>18/19</td>\n",
       "      <td>1</td>\n",
       "      <td>0.447761</td>\n",
       "      <td>15.149254</td>\n",
       "      <td>0.298507</td>\n",
       "      <td>0.597015</td>\n",
       "      <td>10.223881</td>\n",
       "      <td>0.447761</td>\n",
       "      <td>0.671642</td>\n",
       "      <td>0.820896</td>\n",
       "      <td>0.522388</td>\n",
       "      <td>2.537313</td>\n",
       "      <td>0.597015</td>\n",
       "      <td>0.149254</td>\n",
       "      <td>0.149254</td>\n",
       "      <td>0.0</td>\n",
       "      <td>0.000000</td>\n",
       "    </tr>\n",
       "    <tr>\n",
       "      <th>9</th>\n",
       "      <td>Callum Wilson (18/19)</td>\n",
       "      <td>18/19</td>\n",
       "      <td>0</td>\n",
       "      <td>0.408472</td>\n",
       "      <td>16.270802</td>\n",
       "      <td>0.612708</td>\n",
       "      <td>0.816944</td>\n",
       "      <td>11.096823</td>\n",
       "      <td>0.748865</td>\n",
       "      <td>0.340393</td>\n",
       "      <td>1.361573</td>\n",
       "      <td>0.885023</td>\n",
       "      <td>2.314675</td>\n",
       "      <td>1.089259</td>\n",
       "      <td>0.068079</td>\n",
       "      <td>0.340393</td>\n",
       "      <td>0.0</td>\n",
       "      <td>0.204236</td>\n",
       "    </tr>\n",
       "  </tbody>\n",
       "</table>\n",
       "</div>"
      ],
      "text/plain": [
       "                   player_name Season  was_home  assists_(per_90)  \\\n",
       "0  Aleksandar Mitrovic (18/19)  18/19         1          0.054054   \n",
       "1  Aleksandar Mitrovic (18/19)  18/19         0          0.167183   \n",
       "2  Alexandre Lacazette (18/19)  18/19         1          0.492252   \n",
       "3  Alexandre Lacazette (18/19)  18/19         0          0.385714   \n",
       "4        Ashley Barnes (18/19)  18/19         1          0.083799   \n",
       "5        Ashley Barnes (18/19)  18/19         0          0.138037   \n",
       "6          Ayoze Perez (18/19)  18/19         1          0.064516   \n",
       "7          Ayoze Perez (18/19)  18/19         0          0.059172   \n",
       "8        Callum Wilson (18/19)  18/19         1          0.447761   \n",
       "9        Callum Wilson (18/19)  18/19         0          0.408472   \n",
       "\n",
       "   attempted_passes_(per_90)  big_chances_created_(per_90)  \\\n",
       "0                  28.270270                      0.108108   \n",
       "1                  28.086687                      0.222910   \n",
       "2                  26.745670                      0.164084   \n",
       "3                  28.478571                      0.257143   \n",
       "4                  18.938547                      0.251397   \n",
       "5                  20.084356                      0.207055   \n",
       "6                  23.290323                      0.193548   \n",
       "7                  24.792899                      0.118343   \n",
       "8                  15.149254                      0.298507   \n",
       "9                  16.270802                      0.612708   \n",
       "\n",
       "   big_chances_missed_(per_90)  completed_passes_(per_90)  dribbles_(per_90)  \\\n",
       "0                     0.486486                  20.270270           0.648649   \n",
       "1                     0.390093                  20.284830           0.613003   \n",
       "2                     0.164084                  19.772106           1.476755   \n",
       "3                     0.578571                  28.414286           1.735714   \n",
       "4                     0.418994                  11.312849           0.251397   \n",
       "5                     0.483129                  11.871166           0.207055   \n",
       "6                     0.193548                  17.612903           1.612903   \n",
       "7                     0.177515                  19.053254           1.183432   \n",
       "8                     0.597015                  10.223881           0.447761   \n",
       "9                     0.816944                  11.096823           0.748865   \n",
       "\n",
       "   goals_scored_(per_90)  key_passes_(per_90)  offside_(per_90)  \\\n",
       "0               0.162162             0.540541          0.864865   \n",
       "1               0.445820             1.226006          1.003096   \n",
       "2               0.328168             1.148587          0.984503   \n",
       "3               0.578571             1.092857          0.771429   \n",
       "4               0.502793             0.670391          0.921788   \n",
       "5               0.414110             0.966258          0.759202   \n",
       "6               0.193548             1.354839          0.258065   \n",
       "7               0.532544             1.479290          0.295858   \n",
       "8               0.671642             0.820896          0.522388   \n",
       "9               0.340393             1.361573          0.885023   \n",
       "\n",
       "   tackled/lost_possession_(per_90)  target_missed_(per_90)  \\\n",
       "0                          3.459459                1.297297   \n",
       "1                          2.674923                1.839009   \n",
       "2                          2.543300                1.066545   \n",
       "3                          3.342857                1.221429   \n",
       "4                          2.178771                0.586592   \n",
       "5                          1.380368                0.966258   \n",
       "6                          3.096774                0.322581   \n",
       "7                          3.550296                0.710059   \n",
       "8                          2.537313                0.597015   \n",
       "9                          2.314675                1.089259   \n",
       "\n",
       "   winning_goals_(per_90)  tackles_(per_90)  red_cards_(per_90)  \\\n",
       "0                0.054054          0.108108                 0.0   \n",
       "1                0.222910          0.278638                 0.0   \n",
       "2                0.246126          0.328168                 0.0   \n",
       "3                0.385714          0.450000                 0.0   \n",
       "4                0.083799          0.335196                 0.0   \n",
       "5                0.069018          0.483129                 0.0   \n",
       "6                0.064516          0.322581                 0.0   \n",
       "7                0.177515          0.355030                 0.0   \n",
       "8                0.149254          0.149254                 0.0   \n",
       "9                0.068079          0.340393                 0.0   \n",
       "\n",
       "   yellow_cards_(per_90)  \n",
       "0               0.216216  \n",
       "1               0.167183  \n",
       "2               0.000000  \n",
       "3               0.128571  \n",
       "4               0.335196  \n",
       "5               0.276074  \n",
       "6               0.064516  \n",
       "7               0.059172  \n",
       "8               0.000000  \n",
       "9               0.204236  "
      ]
     },
     "execution_count": 3,
     "metadata": {},
     "output_type": "execute_result"
    }
   ],
   "source": [
    "#Preview of the data\n",
    "SD.head(10)"
   ]
  },
  {
   "cell_type": "code",
   "execution_count": 4,
   "metadata": {},
   "outputs": [
    {
     "name": "stdout",
     "output_type": "stream",
     "text": [
      "<class 'pandas.core.frame.DataFrame'>\n",
      "RangeIndex: 136 entries, 0 to 135\n",
      "Data columns (total 18 columns):\n",
      " #   Column                            Non-Null Count  Dtype  \n",
      "---  ------                            --------------  -----  \n",
      " 0   player_name                       136 non-null    object \n",
      " 1   Season                            136 non-null    object \n",
      " 2   was_home                          136 non-null    int64  \n",
      " 3   assists_(per_90)                  136 non-null    float64\n",
      " 4   attempted_passes_(per_90)         136 non-null    float64\n",
      " 5   big_chances_created_(per_90)      136 non-null    float64\n",
      " 6   big_chances_missed_(per_90)       136 non-null    float64\n",
      " 7   completed_passes_(per_90)         136 non-null    float64\n",
      " 8   dribbles_(per_90)                 136 non-null    float64\n",
      " 9   goals_scored_(per_90)             136 non-null    float64\n",
      " 10  key_passes_(per_90)               136 non-null    float64\n",
      " 11  offside_(per_90)                  136 non-null    float64\n",
      " 12  tackled/lost_possession_(per_90)  136 non-null    float64\n",
      " 13  target_missed_(per_90)            136 non-null    float64\n",
      " 14  winning_goals_(per_90)            136 non-null    float64\n",
      " 15  tackles_(per_90)                  136 non-null    float64\n",
      " 16  red_cards_(per_90)                136 non-null    float64\n",
      " 17  yellow_cards_(per_90)             136 non-null    float64\n",
      "dtypes: float64(15), int64(1), object(2)\n",
      "memory usage: 19.2+ KB\n"
     ]
    }
   ],
   "source": [
    "SD.info()"
   ]
  },
  {
   "cell_type": "code",
   "execution_count": 5,
   "metadata": {},
   "outputs": [
    {
     "data": {
      "text/plain": [
       "<matplotlib.axes._subplots.AxesSubplot at 0x27888263b48>"
      ]
     },
     "execution_count": 5,
     "metadata": {},
     "output_type": "execute_result"
    },
    {
     "data": {
      "image/png": "[encoded data removed]",
      "text/plain": [
       "<Figure size 432x288 with 1 Axes>"
      ]
     },
     "metadata": {
      "needs_background": "light"
     },
     "output_type": "display_data"
    }
   ],
   "source": [
    "goals_scored = SD['goals_scored_(per_90)']\n",
    "\n",
    "goals_scored.hist()"
   ]
  },
  {
   "cell_type": "code",
   "execution_count": 6,
   "metadata": {},
   "outputs": [
    {
     "data": {
      "text/plain": [
       "<matplotlib.axes._subplots.AxesSubplot at 0x2788832a488>"
      ]
     },
     "execution_count": 6,
     "metadata": {},
     "output_type": "execute_result"
    },
    {
     "data": {
      "image/png": "[encoded data removed]",
      "text/plain": [
       "<Figure size 432x288 with 1 Axes>"
      ]
     },
     "metadata": {
      "needs_background": "light"
     },
     "output_type": "display_data"
    }
   ],
   "source": [
    "winning_goals = SD['winning_goals_(per_90)']\n",
    "winning_goals.hist()"
   ]
  },
  {
   "cell_type": "code",
   "execution_count": 31,
   "metadata": {},
   "outputs": [
    {
     "data": {
      "application/vnd.plotly.v1+json": {
       "config": {
        "plotlyServerURL": "https://plot.ly"
       },
       "data": [
        {
         "name": "Strikers Big Chances Created in Home Games Per 90",
         "type": "box",
         "y": [
          0.222910217,
          0.257142857,
          0.207055215,
          0.118343195,
          0.612708018,
          0.204390613,
          0.088148874,
          0.065406977,
          0.338345865,
          0.31824611,
          0.28901734100000004,
          0.08356546,
          0.382436261,
          0.49270073,
          0.070532915,
          0.33582089600000004,
          0.18367346899999998,
          0.134328358,
          0.323159785,
          0,
          0.208333333,
          0.31496063,
          0.24128686300000002,
          0.078397213,
          0.303797468,
          0.086042065,
          0.075949367,
          0.383386581,
          0.26011560699999997,
          0.3,
          0.148392415,
          0.21339656199999998,
          0.11194029900000001,
          0.066864785,
          0.057915058,
          0.365853659,
          0.291262136,
          0,
          0.067365269,
          0.21176470600000002,
          0.071315372,
          0.31120332,
          0.302419355,
          0.134730539,
          0.45569620299999997,
          0.181451613,
          0.12080536900000001,
          0.097192225,
          0.07475083099999999,
          0.057507987,
          0.17475728199999999,
          0.371389271,
          0,
          0.12219959300000001,
          0,
          0.08174386900000001,
          0.203466466,
          0.269865067,
          0.052631579000000005,
          0.06378455,
          0.363881402,
          0.397476341,
          0.394984326,
          0.228281547,
          0,
          0.331186753,
          0,
          0.42586750799999995
         ]
        },
        {
         "name": "Strikers Big Chances Created in Away Games Per 90",
         "type": "box",
         "y": [
          0.10810810800000001,
          0.164083865,
          0.251396648,
          0.193548387,
          0.29850746300000003,
          0.214455917,
          0.12032085599999999,
          0.08,
          0.132450331,
          0.137195122,
          0.320056899,
          0.395170143,
          0.06870229,
          0.24523160800000002,
          0.064935065,
          0.213270142,
          0.07853403099999999,
          0.142743854,
          0.134028295,
          0.23560209399999998,
          0.433386838,
          0.08538899400000001,
          0.096153846,
          0.089820359,
          0.207532667,
          0.09625668400000001,
          0.171591992,
          0.193133047,
          0,
          0,
          0,
          0.129776496,
          0.164634146,
          0.061601643,
          0,
          0,
          0.148270181,
          0.091463415,
          0.143312102,
          0.435203095,
          0.289389068,
          0.41095890399999996,
          0.261248186,
          0.125962211,
          0.580645161,
          0,
          0.092783505,
          0.197802198,
          0.169651272,
          0.34429992299999995,
          0,
          0,
          0.056390977,
          0.223602484,
          0,
          0.067114094,
          0.22575250800000002,
          0.122699387,
          0,
          0.138142748,
          0.146460537,
          0.243737305,
          0.053859964,
          0,
          0.194384449,
          0.20501139,
          0.128939828,
          0.153846154
         ]
        },
        {
         "name": "Strikers Big Chances Missed in Home Games Per 90",
         "type": "box",
         "y": [
          0.390092879,
          0.578571429,
          0.483128834,
          0.177514793,
          0.8169440240000001,
          0.340651022,
          0.088148874,
          0.130813953,
          0.338345865,
          0.636492221,
          0.40462427700000003,
          0.33426183800000003,
          0.6373937679999999,
          0.273722628,
          0.28213166100000003,
          0.201492537,
          0.551020408,
          0.201492537,
          0.646319569,
          0.538384845,
          0.347222222,
          0.62992126,
          0.40214477200000004,
          0.078397213,
          0.075949367,
          0.602294455,
          0.835443038,
          0.287539936,
          0.606936416,
          0.075,
          0.370981039,
          0.480142264,
          0.055970149000000004,
          0.066864785,
          0.17374517399999997,
          0.274390244,
          0.072815534,
          0.109356015,
          0.336826347,
          0.282352941,
          0.28526149,
          0.248962656,
          0.48387096799999996,
          0.134730539,
          0.45569620299999997,
          0.272177419,
          0.483221477,
          0.291576674,
          0.149501661,
          0.172523962,
          0.436893204,
          0,
          0.351791531,
          0.305498982,
          0.213523132,
          0.24523160800000002,
          0.610399397,
          0,
          0.21052631600000002,
          0.1275691,
          0.424528302,
          0.340694006,
          0.112852665,
          0.399492708,
          0.079086116,
          0.5795768170000001,
          0.29069767399999996,
          1.2066246059999999
         ]
        },
        {
         "name": "Strikers Big Chances Missed in Away Games Per 90",
         "type": "box",
         "y": [
          0.486486486,
          0.164083865,
          0.41899441299999995,
          0.193548387,
          0.597014925,
          0.214455917,
          0.6016042779999999,
          0.32,
          0.463576159,
          0.48018292700000004,
          0.192034139,
          0.395170143,
          0.618320611,
          0.30653951,
          0.194805195,
          0.355450237,
          0.7068062829999999,
          0.071371927,
          0.26805659,
          0.11780104699999999,
          0.216693419,
          0.42694497200000003,
          0.961538462,
          0.17964071899999998,
          0.27671022300000003,
          0.09625668400000001,
          0.7721639659999999,
          0.289699571,
          0.297356828,
          0.17291066300000002,
          0.46343975299999995,
          0.519105984,
          0.274390244,
          0.184804928,
          0.13888888900000002,
          0,
          0,
          0.18292682899999999,
          0.143312102,
          0.174081238,
          0.46302250799999994,
          0.136986301,
          0.130624093,
          0.377886634,
          0.812903226,
          0,
          0,
          0.197802198,
          0.084825636,
          0.20657995399999998,
          0.073170732,
          0.257879656,
          0.281954887,
          0.223602484,
          0,
          0.134228188,
          0.150501672,
          0.306748466,
          0.167493797,
          0.138142748,
          0.36615134299999996,
          0.243737305,
          0.215439856,
          0.205323194,
          0.194384449,
          0.410022779,
          0.128939828,
          0.23076923100000002
         ]
        }
       ],
       "layout": {
        "template": {
         "data": {
          "bar": [
           {
            "error_x": {
             "color": "#2a3f5f"
            },
            "error_y": {
             "color": "#2a3f5f"
            },
            "marker": {
             "line": {
              "color": "#E5ECF6",
              "width": 0.5
             }
            },
            "type": "bar"
           }
          ],
          "barpolar": [
           {
            "marker": {
             "line": {
              "color": "#E5ECF6",
              "width": 0.5
             }
            },
            "type": "barpolar"
           }
          ],
          "carpet": [
           {
            "aaxis": {
             "endlinecolor": "#2a3f5f",
             "gridcolor": "white",
             "linecolor": "white",
             "minorgridcolor": "white",
             "startlinecolor": "#2a3f5f"
            },
            "baxis": {
             "endlinecolor": "#2a3f5f",
             "gridcolor": "white",
             "linecolor": "white",
             "minorgridcolor": "white",
             "startlinecolor": "#2a3f5f"
            },
            "type": "carpet"
           }
          ],
          "choropleth": [
           {
            "colorbar": {
             "outlinewidth": 0,
             "ticks": ""
            },
            "type": "choropleth"
           }
          ],
          "contour": [
           {
            "colorbar": {
             "outlinewidth": 0,
             "ticks": ""
            },
            "colorscale": [
             [
              0,
              "#0d0887"
             ],
             [
              0.1111111111111111,
              "#46039f"
             ],
             [
              0.2222222222222222,
              "#7201a8"
             ],
             [
              0.3333333333333333,
              "#9c179e"
             ],
             [
              0.4444444444444444,
              "#bd3786"
             ],
             [
              0.5555555555555556,
              "#d8576b"
             ],
             [
              0.6666666666666666,
              "#ed7953"
             ],
             [
              0.7777777777777778,
              "#fb9f3a"
             ],
             [
              0.8888888888888888,
              "#fdca26"
             ],
             [
              1,
              "#f0f921"
             ]
            ],
            "type": "contour"
           }
          ],
          "contourcarpet": [
           {
            "colorbar": {
             "outlinewidth": 0,
             "ticks": ""
            },
            "type": "contourcarpet"
           }
          ],
          "heatmap": [
           {
            "colorbar": {
             "outlinewidth": 0,
             "ticks": ""
            },
            "colorscale": [
             [
              0,
              "#0d0887"
             ],
             [
              0.1111111111111111,
              "#46039f"
             ],
             [
              0.2222222222222222,
              "#7201a8"
             ],
             [
              0.3333333333333333,
              "#9c179e"
             ],
             [
              0.4444444444444444,
              "#bd3786"
             ],
             [
              0.5555555555555556,
              "#d8576b"
             ],
             [
              0.6666666666666666,
              "#ed7953"
             ],
             [
              0.7777777777777778,
              "#fb9f3a"
             ],
             [
              0.8888888888888888,
              "#fdca26"
             ],
             [
              1,
              "#f0f921"
             ]
            ],
            "type": "heatmap"
           }
          ],
          "heatmapgl": [
           {
            "colorbar": {
             "outlinewidth": 0,
             "ticks": ""
            },
            "colorscale": [
             [
              0,
              "#0d0887"
             ],
             [
              0.1111111111111111,
              "#46039f"
             ],
             [
              0.2222222222222222,
              "#7201a8"
             ],
             [
              0.3333333333333333,
              "#9c179e"
             ],
             [
              0.4444444444444444,
              "#bd3786"
             ],
             [
              0.5555555555555556,
              "#d8576b"
             ],
             [
              0.6666666666666666,
              "#ed7953"
             ],
             [
              0.7777777777777778,
              "#fb9f3a"
             ],
             [
              0.8888888888888888,
              "#fdca26"
             ],
             [
              1,
              "#f0f921"
             ]
            ],
            "type": "heatmapgl"
           }
          ],
          "histogram": [
           {
            "marker": {
             "colorbar": {
              "outlinewidth": 0,
              "ticks": ""
             }
            },
            "type": "histogram"
           }
          ],
          "histogram2d": [
           {
            "colorbar": {
             "outlinewidth": 0,
             "ticks": ""
            },
            "colorscale": [
             [
              0,
              "#0d0887"
             ],
             [
              0.1111111111111111,
              "#46039f"
             ],
             [
              0.2222222222222222,
              "#7201a8"
             ],
             [
              0.3333333333333333,
              "#9c179e"
             ],
             [
              0.4444444444444444,
              "#bd3786"
             ],
             [
              0.5555555555555556,
              "#d8576b"
             ],
             [
              0.6666666666666666,
              "#ed7953"
             ],
             [
              0.7777777777777778,
              "#fb9f3a"
             ],
             [
              0.8888888888888888,
              "#fdca26"
             ],
             [
              1,
              "#f0f921"
             ]
            ],
            "type": "histogram2d"
           }
          ],
          "histogram2dcontour": [
           {
            "colorbar": {
             "outlinewidth": 0,
             "ticks": ""
            },
            "colorscale": [
             [
              0,
              "#0d0887"
             ],
             [
              0.1111111111111111,
              "#46039f"
             ],
             [
              0.2222222222222222,
              "#7201a8"
             ],
             [
              0.3333333333333333,
              "#9c179e"
             ],
             [
              0.4444444444444444,
              "#bd3786"
             ],
             [
              0.5555555555555556,
              "#d8576b"
             ],
             [
              0.6666666666666666,
              "#ed7953"
             ],
             [
              0.7777777777777778,
              "#fb9f3a"
             ],
             [
              0.8888888888888888,
              "#fdca26"
             ],
             [
              1,
              "#f0f921"
             ]
            ],
            "type": "histogram2dcontour"
           }
          ],
          "mesh3d": [
           {
            "colorbar": {
             "outlinewidth": 0,
             "ticks": ""
            },
            "type": "mesh3d"
           }
          ],
          "parcoords": [
           {
            "line": {
             "colorbar": {
              "outlinewidth": 0,
              "ticks": ""
             }
            },
            "type": "parcoords"
           }
          ],
          "pie": [
           {
            "automargin": true,
            "type": "pie"
           }
          ],
          "scatter": [
           {
            "marker": {
             "colorbar": {
              "outlinewidth": 0,
              "ticks": ""
             }
            },
            "type": "scatter"
           }
          ],
          "scatter3d": [
           {
            "line": {
             "colorbar": {
              "outlinewidth": 0,
              "ticks": ""
             }
            },
            "marker": {
             "colorbar": {
              "outlinewidth": 0,
              "ticks": ""
             }
            },
            "type": "scatter3d"
           }
          ],
          "scattercarpet": [
           {
            "marker": {
             "colorbar": {
              "outlinewidth": 0,
              "ticks": ""
             }
            },
            "type": "scattercarpet"
           }
          ],
          "scattergeo": [
           {
            "marker": {
             "colorbar": {
              "outlinewidth": 0,
              "ticks": ""
             }
            },
            "type": "scattergeo"
           }
          ],
          "scattergl": [
           {
            "marker": {
             "colorbar": {
              "outlinewidth": 0,
              "ticks": ""
             }
            },
            "type": "scattergl"
           }
          ],
          "scattermapbox": [
           {
            "marker": {
             "colorbar": {
              "outlinewidth": 0,
              "ticks": ""
             }
            },
            "type": "scattermapbox"
           }
          ],
          "scatterpolar": [
           {
            "marker": {
             "colorbar": {
              "outlinewidth": 0,
              "ticks": ""
             }
            },
            "type": "scatterpolar"
           }
          ],
          "scatterpolargl": [
           {
            "marker": {
             "colorbar": {
              "outlinewidth": 0,
              "ticks": ""
             }
            },
            "type": "scatterpolargl"
           }
          ],
          "scatterternary": [
           {
            "marker": {
             "colorbar": {
              "outlinewidth": 0,
              "ticks": ""
             }
            },
            "type": "scatterternary"
           }
          ],
          "surface": [
           {
            "colorbar": {
             "outlinewidth": 0,
             "ticks": ""
            },
            "colorscale": [
             [
              0,
              "#0d0887"
             ],
             [
              0.1111111111111111,
              "#46039f"
             ],
             [
              0.2222222222222222,
              "#7201a8"
             ],
             [
              0.3333333333333333,
              "#9c179e"
             ],
             [
              0.4444444444444444,
              "#bd3786"
             ],
             [
              0.5555555555555556,
              "#d8576b"
             ],
             [
              0.6666666666666666,
              "#ed7953"
             ],
             [
              0.7777777777777778,
              "#fb9f3a"
             ],
             [
              0.8888888888888888,
              "#fdca26"
             ],
             [
              1,
              "#f0f921"
             ]
            ],
            "type": "surface"
           }
          ],
          "table": [
           {
            "cells": {
             "fill": {
              "color": "#EBF0F8"
             },
             "line": {
              "color": "white"
             }
            },
            "header": {
             "fill": {
              "color": "#C8D4E3"
             },
             "line": {
              "color": "white"
             }
            },
            "type": "table"
           }
          ]
         },
         "layout": {
          "annotationdefaults": {
           "arrowcolor": "#2a3f5f",
           "arrowhead": 0,
           "arrowwidth": 1
          },
          "coloraxis": {
           "colorbar": {
            "outlinewidth": 0,
            "ticks": ""
           }
          },
          "colorscale": {
           "diverging": [
            [
             0,
             "#8e0152"
            ],
            [
             0.1,
             "#c51b7d"
            ],
            [
             0.2,
             "#de77ae"
            ],
            [
             0.3,
             "#f1b6da"
            ],
            [
             0.4,
             "#fde0ef"
            ],
            [
             0.5,
             "#f7f7f7"
            ],
            [
             0.6,
             "#e6f5d0"
            ],
            [
             0.7,
             "#b8e186"
            ],
            [
             0.8,
             "#7fbc41"
            ],
            [
             0.9,
             "#4d9221"
            ],
            [
             1,
             "#276419"
            ]
           ],
           "sequential": [
            [
             0,
             "#0d0887"
            ],
            [
             0.1111111111111111,
             "#46039f"
            ],
            [
             0.2222222222222222,
             "#7201a8"
            ],
            [
             0.3333333333333333,
             "#9c179e"
            ],
            [
             0.4444444444444444,
             "#bd3786"
            ],
            [
             0.5555555555555556,
             "#d8576b"
            ],
            [
             0.6666666666666666,
             "#ed7953"
            ],
            [
             0.7777777777777778,
             "#fb9f3a"
            ],
            [
             0.8888888888888888,
             "#fdca26"
            ],
            [
             1,
             "#f0f921"
            ]
           ],
           "sequentialminus": [
            [
             0,
             "#0d0887"
            ],
            [
             0.1111111111111111,
             "#46039f"
            ],
            [
             0.2222222222222222,
             "#7201a8"
            ],
            [
             0.3333333333333333,
             "#9c179e"
            ],
            [
             0.4444444444444444,
             "#bd3786"
            ],
            [
             0.5555555555555556,
             "#d8576b"
            ],
            [
             0.6666666666666666,
             "#ed7953"
            ],
            [
             0.7777777777777778,
             "#fb9f3a"
            ],
            [
             0.8888888888888888,
             "#fdca26"
            ],
            [
             1,
             "#f0f921"
            ]
           ]
          },
          "colorway": [
           "#636efa",
           "#EF553B",
           "#00cc96",
           "#ab63fa",
           "#FFA15A",
           "#19d3f3",
           "#FF6692",
           "#B6E880",
           "#FF97FF",
           "#FECB52"
          ],
          "font": {
           "color": "#2a3f5f"
          },
          "geo": {
           "bgcolor": "white",
           "lakecolor": "white",
           "landcolor": "#E5ECF6",
           "showlakes": true,
           "showland": true,
           "subunitcolor": "white"
          },
          "hoverlabel": {
           "align": "left"
          },
          "hovermode": "closest",
          "mapbox": {
           "style": "light"
          },
          "paper_bgcolor": "white",
          "plot_bgcolor": "#E5ECF6",
          "polar": {
           "angularaxis": {
            "gridcolor": "white",
            "linecolor": "white",
            "ticks": ""
           },
           "bgcolor": "#E5ECF6",
           "radialaxis": {
            "gridcolor": "white",
            "linecolor": "white",
            "ticks": ""
           }
          },
          "scene": {
           "xaxis": {
            "backgroundcolor": "#E5ECF6",
            "gridcolor": "white",
            "gridwidth": 2,
            "linecolor": "white",
            "showbackground": true,
            "ticks": "",
            "zerolinecolor": "white"
           },
           "yaxis": {
            "backgroundcolor": "#E5ECF6",
            "gridcolor": "white",
            "gridwidth": 2,
            "linecolor": "white",
            "showbackground": true,
            "ticks": "",
            "zerolinecolor": "white"
           },
           "zaxis": {
            "backgroundcolor": "#E5ECF6",
            "gridcolor": "white",
            "gridwidth": 2,
            "linecolor": "white",
            "showbackground": true,
            "ticks": "",
            "zerolinecolor": "white"
           }
          },
          "shapedefaults": {
           "line": {
            "color": "#2a3f5f"
           }
          },
          "ternary": {
           "aaxis": {
            "gridcolor": "white",
            "linecolor": "white",
            "ticks": ""
           },
           "baxis": {
            "gridcolor": "white",
            "linecolor": "white",
            "ticks": ""
           },
           "bgcolor": "#E5ECF6",
           "caxis": {
            "gridcolor": "white",
            "linecolor": "white",
            "ticks": ""
           }
          },
          "title": {
           "x": 0.05
          },
          "xaxis": {
           "automargin": true,
           "gridcolor": "white",
           "linecolor": "white",
           "ticks": "",
           "title": {
            "standoff": 15
           },
           "zerolinecolor": "white",
           "zerolinewidth": 2
          },
          "yaxis": {
           "automargin": true,
           "gridcolor": "white",
           "linecolor": "white",
           "ticks": "",
           "title": {
            "standoff": 15
           },
           "zerolinecolor": "white",
           "zerolinewidth": 2
          }
         }
        }
       }
      },
      "text/html": [
       "<div>                            <div id=\"036015d4-223f-48b1-aafc-aa4ea04c4f70\" class=\"plotly-graph-div\" style=\"height:525px; width:100%;\"></div>            <script type=\"text/javascript\">                require([\"plotly\"], function(Plotly) {                    window.PLOTLYENV=window.PLOTLYENV || {};                                    if (document.getElementById(\"036015d4-223f-48b1-aafc-aa4ea04c4f70\")) {                    Plotly.newPlot(                        \"036015d4-223f-48b1-aafc-aa4ea04c4f70\",                        [{\"name\": \"Strikers Big Chances Created in Home Games Per 90\", \"type\": \"box\", \"y\": [0.222910217, 0.257142857, 0.207055215, 0.118343195, 0.612708018, 0.204390613, 0.088148874, 0.065406977, 0.338345865, 0.31824611, 0.28901734100000004, 0.08356546, 0.382436261, 0.49270073, 0.070532915, 0.33582089600000004, 0.18367346899999998, 0.134328358, 0.323159785, 0.0, 0.208333333, 0.31496063, 0.24128686300000002, 0.078397213, 0.303797468, 0.086042065, 0.075949367, 0.383386581, 0.26011560699999997, 0.3, 0.148392415, 0.21339656199999998, 0.11194029900000001, 0.066864785, 0.057915058, 0.365853659, 0.291262136, 0.0, 0.067365269, 0.21176470600000002, 0.071315372, 0.31120332, 0.302419355, 0.134730539, 0.45569620299999997, 0.181451613, 0.12080536900000001, 0.097192225, 0.07475083099999999, 0.057507987, 0.17475728199999999, 0.371389271, 0.0, 0.12219959300000001, 0.0, 0.08174386900000001, 0.203466466, 0.269865067, 0.052631579000000005, 0.06378455, 0.363881402, 0.397476341, 0.394984326, 0.228281547, 0.0, 0.331186753, 0.0, 0.42586750799999995]}, {\"name\": \"Strikers Big Chances Created in Away Games Per 90\", \"type\": \"box\", \"y\": [0.10810810800000001, 0.164083865, 0.251396648, 0.193548387, 0.29850746300000003, 0.214455917, 0.12032085599999999, 0.08, 0.132450331, 0.137195122, 0.320056899, 0.395170143, 0.06870229, 0.24523160800000002, 0.064935065, 0.213270142, 0.07853403099999999, 0.142743854, 0.134028295, 0.23560209399999998, 0.433386838, 0.08538899400000001, 0.096153846, 0.089820359, 0.207532667, 0.09625668400000001, 0.171591992, 0.193133047, 0.0, 0.0, 0.0, 0.129776496, 0.164634146, 0.061601643, 0.0, 0.0, 0.148270181, 0.091463415, 0.143312102, 0.435203095, 0.289389068, 0.41095890399999996, 0.261248186, 0.125962211, 0.580645161, 0.0, 0.092783505, 0.197802198, 0.169651272, 0.34429992299999995, 0.0, 0.0, 0.056390977, 0.223602484, 0.0, 0.067114094, 0.22575250800000002, 0.122699387, 0.0, 0.138142748, 0.146460537, 0.243737305, 0.053859964, 0.0, 0.194384449, 0.20501139, 0.128939828, 0.153846154]}, {\"name\": \"Strikers Big Chances Missed in Home Games Per 90\", \"type\": \"box\", \"y\": [0.390092879, 0.578571429, 0.483128834, 0.177514793, 0.8169440240000001, 0.340651022, 0.088148874, 0.130813953, 0.338345865, 0.636492221, 0.40462427700000003, 0.33426183800000003, 0.6373937679999999, 0.273722628, 0.28213166100000003, 0.201492537, 0.551020408, 0.201492537, 0.646319569, 0.538384845, 0.347222222, 0.62992126, 0.40214477200000004, 0.078397213, 0.075949367, 0.602294455, 0.835443038, 0.287539936, 0.606936416, 0.075, 0.370981039, 0.480142264, 0.055970149000000004, 0.066864785, 0.17374517399999997, 0.274390244, 0.072815534, 0.109356015, 0.336826347, 0.282352941, 0.28526149, 0.248962656, 0.48387096799999996, 0.134730539, 0.45569620299999997, 0.272177419, 0.483221477, 0.291576674, 0.149501661, 0.172523962, 0.436893204, 0.0, 0.351791531, 0.305498982, 0.213523132, 0.24523160800000002, 0.610399397, 0.0, 0.21052631600000002, 0.1275691, 0.424528302, 0.340694006, 0.112852665, 0.399492708, 0.079086116, 0.5795768170000001, 0.29069767399999996, 1.2066246059999999]}, {\"name\": \"Strikers Big Chances Missed in Away Games Per 90\", \"type\": \"box\", \"y\": [0.486486486, 0.164083865, 0.41899441299999995, 0.193548387, 0.597014925, 0.214455917, 0.6016042779999999, 0.32, 0.463576159, 0.48018292700000004, 0.192034139, 0.395170143, 0.618320611, 0.30653951, 0.194805195, 0.355450237, 0.7068062829999999, 0.071371927, 0.26805659, 0.11780104699999999, 0.216693419, 0.42694497200000003, 0.961538462, 0.17964071899999998, 0.27671022300000003, 0.09625668400000001, 0.7721639659999999, 0.289699571, 0.297356828, 0.17291066300000002, 0.46343975299999995, 0.519105984, 0.274390244, 0.184804928, 0.13888888900000002, 0.0, 0.0, 0.18292682899999999, 0.143312102, 0.174081238, 0.46302250799999994, 0.136986301, 0.130624093, 0.377886634, 0.812903226, 0.0, 0.0, 0.197802198, 0.084825636, 0.20657995399999998, 0.073170732, 0.257879656, 0.281954887, 0.223602484, 0.0, 0.134228188, 0.150501672, 0.306748466, 0.167493797, 0.138142748, 0.36615134299999996, 0.243737305, 0.215439856, 0.205323194, 0.194384449, 0.410022779, 0.128939828, 0.23076923100000002]}],                        {\"template\": {\"data\": {\"bar\": [{\"error_x\": {\"color\": \"#2a3f5f\"}, \"error_y\": {\"color\": \"#2a3f5f\"}, \"marker\": {\"line\": {\"color\": \"#E5ECF6\", \"width\": 0.5}}, \"type\": \"bar\"}], \"barpolar\": [{\"marker\": {\"line\": {\"color\": \"#E5ECF6\", \"width\": 0.5}}, \"type\": \"barpolar\"}], \"carpet\": [{\"aaxis\": {\"endlinecolor\": \"#2a3f5f\", \"gridcolor\": \"white\", \"linecolor\": \"white\", \"minorgridcolor\": \"white\", \"startlinecolor\": \"#2a3f5f\"}, \"baxis\": {\"endlinecolor\": \"#2a3f5f\", \"gridcolor\": \"white\", \"linecolor\": \"white\", \"minorgridcolor\": \"white\", \"startlinecolor\": \"#2a3f5f\"}, \"type\": \"carpet\"}], \"choropleth\": [{\"colorbar\": {\"outlinewidth\": 0, \"ticks\": \"\"}, \"type\": \"choropleth\"}], \"contour\": [{\"colorbar\": {\"outlinewidth\": 0, \"ticks\": \"\"}, \"colorscale\": [[0.0, \"#0d0887\"], [0.1111111111111111, \"#46039f\"], [0.2222222222222222, \"#7201a8\"], [0.3333333333333333, \"#9c179e\"], [0.4444444444444444, \"#bd3786\"], [0.5555555555555556, \"#d8576b\"], [0.6666666666666666, \"#ed7953\"], [0.7777777777777778, \"#fb9f3a\"], [0.8888888888888888, \"#fdca26\"], [1.0, \"#f0f921\"]], \"type\": \"contour\"}], \"contourcarpet\": [{\"colorbar\": {\"outlinewidth\": 0, \"ticks\": \"\"}, \"type\": \"contourcarpet\"}], \"heatmap\": [{\"colorbar\": {\"outlinewidth\": 0, \"ticks\": \"\"}, \"colorscale\": [[0.0, \"#0d0887\"], [0.1111111111111111, \"#46039f\"], [0.2222222222222222, \"#7201a8\"], [0.3333333333333333, \"#9c179e\"], [0.4444444444444444, \"#bd3786\"], [0.5555555555555556, \"#d8576b\"], [0.6666666666666666, \"#ed7953\"], [0.7777777777777778, \"#fb9f3a\"], [0.8888888888888888, \"#fdca26\"], [1.0, \"#f0f921\"]], \"type\": \"heatmap\"}], \"heatmapgl\": [{\"colorbar\": {\"outlinewidth\": 0, \"ticks\": \"\"}, \"colorscale\": [[0.0, \"#0d0887\"], [0.1111111111111111, \"#46039f\"], [0.2222222222222222, \"#7201a8\"], [0.3333333333333333, \"#9c179e\"], [0.4444444444444444, \"#bd3786\"], [0.5555555555555556, \"#d8576b\"], [0.6666666666666666, \"#ed7953\"], [0.7777777777777778, \"#fb9f3a\"], [0.8888888888888888, \"#fdca26\"], [1.0, \"#f0f921\"]], \"type\": \"heatmapgl\"}], \"histogram\": [{\"marker\": {\"colorbar\": {\"outlinewidth\": 0, \"ticks\": \"\"}}, \"type\": \"histogram\"}], \"histogram2d\": [{\"colorbar\": {\"outlinewidth\": 0, \"ticks\": \"\"}, \"colorscale\": [[0.0, \"#0d0887\"], [0.1111111111111111, \"#46039f\"], [0.2222222222222222, \"#7201a8\"], [0.3333333333333333, \"#9c179e\"], [0.4444444444444444, \"#bd3786\"], [0.5555555555555556, \"#d8576b\"], [0.6666666666666666, \"#ed7953\"], [0.7777777777777778, \"#fb9f3a\"], [0.8888888888888888, \"#fdca26\"], [1.0, \"#f0f921\"]], \"type\": \"histogram2d\"}], \"histogram2dcontour\": [{\"colorbar\": {\"outlinewidth\": 0, \"ticks\": \"\"}, \"colorscale\": [[0.0, \"#0d0887\"], [0.1111111111111111, \"#46039f\"], [0.2222222222222222, \"#7201a8\"], [0.3333333333333333, \"#9c179e\"], [0.4444444444444444, \"#bd3786\"], [0.5555555555555556, \"#d8576b\"], [0.6666666666666666, \"#ed7953\"], [0.7777777777777778, \"#fb9f3a\"], [0.8888888888888888, \"#fdca26\"], [1.0, \"#f0f921\"]], \"type\": \"histogram2dcontour\"}], \"mesh3d\": [{\"colorbar\": {\"outlinewidth\": 0, \"ticks\": \"\"}, \"type\": \"mesh3d\"}], \"parcoords\": [{\"line\": {\"colorbar\": {\"outlinewidth\": 0, \"ticks\": \"\"}}, \"type\": \"parcoords\"}], \"pie\": [{\"automargin\": true, \"type\": \"pie\"}], \"scatter\": [{\"marker\": {\"colorbar\": {\"outlinewidth\": 0, \"ticks\": \"\"}}, \"type\": \"scatter\"}], \"scatter3d\": [{\"line\": {\"colorbar\": {\"outlinewidth\": 0, \"ticks\": \"\"}}, \"marker\": {\"colorbar\": {\"outlinewidth\": 0, \"ticks\": \"\"}}, \"type\": \"scatter3d\"}], \"scattercarpet\": [{\"marker\": {\"colorbar\": {\"outlinewidth\": 0, \"ticks\": \"\"}}, \"type\": \"scattercarpet\"}], \"scattergeo\": [{\"marker\": {\"colorbar\": {\"outlinewidth\": 0, \"ticks\": \"\"}}, \"type\": \"scattergeo\"}], \"scattergl\": [{\"marker\": {\"colorbar\": {\"outlinewidth\": 0, \"ticks\": \"\"}}, \"type\": \"scattergl\"}], \"scattermapbox\": [{\"marker\": {\"colorbar\": {\"outlinewidth\": 0, \"ticks\": \"\"}}, \"type\": \"scattermapbox\"}], \"scatterpolar\": [{\"marker\": {\"colorbar\": {\"outlinewidth\": 0, \"ticks\": \"\"}}, \"type\": \"scatterpolar\"}], \"scatterpolargl\": [{\"marker\": {\"colorbar\": {\"outlinewidth\": 0, \"ticks\": \"\"}}, \"type\": \"scatterpolargl\"}], \"scatterternary\": [{\"marker\": {\"colorbar\": {\"outlinewidth\": 0, \"ticks\": \"\"}}, \"type\": \"scatterternary\"}], \"surface\": [{\"colorbar\": {\"outlinewidth\": 0, \"ticks\": \"\"}, \"colorscale\": [[0.0, \"#0d0887\"], [0.1111111111111111, \"#46039f\"], [0.2222222222222222, \"#7201a8\"], [0.3333333333333333, \"#9c179e\"], [0.4444444444444444, \"#bd3786\"], [0.5555555555555556, \"#d8576b\"], [0.6666666666666666, \"#ed7953\"], [0.7777777777777778, \"#fb9f3a\"], [0.8888888888888888, \"#fdca26\"], [1.0, \"#f0f921\"]], \"type\": \"surface\"}], \"table\": [{\"cells\": {\"fill\": {\"color\": \"#EBF0F8\"}, \"line\": {\"color\": \"white\"}}, \"header\": {\"fill\": {\"color\": \"#C8D4E3\"}, \"line\": {\"color\": \"white\"}}, \"type\": \"table\"}]}, \"layout\": {\"annotationdefaults\": {\"arrowcolor\": \"#2a3f5f\", \"arrowhead\": 0, \"arrowwidth\": 1}, \"coloraxis\": {\"colorbar\": {\"outlinewidth\": 0, \"ticks\": \"\"}}, \"colorscale\": {\"diverging\": [[0, \"#8e0152\"], [0.1, \"#c51b7d\"], [0.2, \"#de77ae\"], [0.3, \"#f1b6da\"], [0.4, \"#fde0ef\"], [0.5, \"#f7f7f7\"], [0.6, \"#e6f5d0\"], [0.7, \"#b8e186\"], [0.8, \"#7fbc41\"], [0.9, \"#4d9221\"], [1, \"#276419\"]], \"sequential\": [[0.0, \"#0d0887\"], [0.1111111111111111, \"#46039f\"], [0.2222222222222222, \"#7201a8\"], [0.3333333333333333, \"#9c179e\"], [0.4444444444444444, \"#bd3786\"], [0.5555555555555556, \"#d8576b\"], [0.6666666666666666, \"#ed7953\"], [0.7777777777777778, \"#fb9f3a\"], [0.8888888888888888, \"#fdca26\"], [1.0, \"#f0f921\"]], \"sequentialminus\": [[0.0, \"#0d0887\"], [0.1111111111111111, \"#46039f\"], [0.2222222222222222, \"#7201a8\"], [0.3333333333333333, \"#9c179e\"], [0.4444444444444444, \"#bd3786\"], [0.5555555555555556, \"#d8576b\"], [0.6666666666666666, \"#ed7953\"], [0.7777777777777778, \"#fb9f3a\"], [0.8888888888888888, \"#fdca26\"], [1.0, \"#f0f921\"]]}, \"colorway\": [\"#636efa\", \"#EF553B\", \"#00cc96\", \"#ab63fa\", \"#FFA15A\", \"#19d3f3\", \"#FF6692\", \"#B6E880\", \"#FF97FF\", \"#FECB52\"], \"font\": {\"color\": \"#2a3f5f\"}, \"geo\": {\"bgcolor\": \"white\", \"lakecolor\": \"white\", \"landcolor\": \"#E5ECF6\", \"showlakes\": true, \"showland\": true, \"subunitcolor\": \"white\"}, \"hoverlabel\": {\"align\": \"left\"}, \"hovermode\": \"closest\", \"mapbox\": {\"style\": \"light\"}, \"paper_bgcolor\": \"white\", \"plot_bgcolor\": \"#E5ECF6\", \"polar\": {\"angularaxis\": {\"gridcolor\": \"white\", \"linecolor\": \"white\", \"ticks\": \"\"}, \"bgcolor\": \"#E5ECF6\", \"radialaxis\": {\"gridcolor\": \"white\", \"linecolor\": \"white\", \"ticks\": \"\"}}, \"scene\": {\"xaxis\": {\"backgroundcolor\": \"#E5ECF6\", \"gridcolor\": \"white\", \"gridwidth\": 2, \"linecolor\": \"white\", \"showbackground\": true, \"ticks\": \"\", \"zerolinecolor\": \"white\"}, \"yaxis\": {\"backgroundcolor\": \"#E5ECF6\", \"gridcolor\": \"white\", \"gridwidth\": 2, \"linecolor\": \"white\", \"showbackground\": true, \"ticks\": \"\", \"zerolinecolor\": \"white\"}, \"zaxis\": {\"backgroundcolor\": \"#E5ECF6\", \"gridcolor\": \"white\", \"gridwidth\": 2, \"linecolor\": \"white\", \"showbackground\": true, \"ticks\": \"\", \"zerolinecolor\": \"white\"}}, \"shapedefaults\": {\"line\": {\"color\": \"#2a3f5f\"}}, \"ternary\": {\"aaxis\": {\"gridcolor\": \"white\", \"linecolor\": \"white\", \"ticks\": \"\"}, \"baxis\": {\"gridcolor\": \"white\", \"linecolor\": \"white\", \"ticks\": \"\"}, \"bgcolor\": \"#E5ECF6\", \"caxis\": {\"gridcolor\": \"white\", \"linecolor\": \"white\", \"ticks\": \"\"}}, \"title\": {\"x\": 0.05}, \"xaxis\": {\"automargin\": true, \"gridcolor\": \"white\", \"linecolor\": \"white\", \"ticks\": \"\", \"title\": {\"standoff\": 15}, \"zerolinecolor\": \"white\", \"zerolinewidth\": 2}, \"yaxis\": {\"automargin\": true, \"gridcolor\": \"white\", \"linecolor\": \"white\", \"ticks\": \"\", \"title\": {\"standoff\": 15}, \"zerolinecolor\": \"white\", \"zerolinewidth\": 2}}}},                        {\"responsive\": true}                    ).then(function(){\n",
       "                            \n",
       "var gd = document.getElementById('036015d4-223f-48b1-aafc-aa4ea04c4f70');\n",
       "var x = new MutationObserver(function (mutations, observer) {{\n",
       "        var display = window.getComputedStyle(gd).display;\n",
       "        if (!display || display === 'none') {{\n",
       "            console.log([gd, 'removed!']);\n",
       "            Plotly.purge(gd);\n",
       "            observer.disconnect();\n",
       "        }}\n",
       "}});\n",
       "\n",
       "// Listen for the removal of the full notebook cells\n",
       "var notebookContainer = gd.closest('#notebook-container');\n",
       "if (notebookContainer) {{\n",
       "    x.observe(notebookContainer, {childList: true});\n",
       "}}\n",
       "\n",
       "// Listen for the clearing of the current output cell\n",
       "var outputEl = gd.closest('.output');\n",
       "if (outputEl) {{\n",
       "    x.observe(outputEl, {childList: true});\n",
       "}}\n",
       "\n",
       "                        })                };                });            </script>        </div>"
      ]
     },
     "metadata": {},
     "output_type": "display_data"
    }
   ],
   "source": [
    "Home = SD[SD.was_home == 0]\n",
    "Away = SD[SD.was_home == 1]\n",
    "\n",
    "y0 = Home['big_chances_created_(per_90)']\n",
    "y1 = Away['big_chances_created_(per_90)']\n",
    "y2 = Home['big_chances_missed_(per_90)']\n",
    "y3 = Away['big_chances_missed_(per_90)']\n",
    "\n",
    "fig = go.Figure()\n",
    "fig.add_trace(go.Box(y=y0,  name=\"Strikers Big Chances Created in Home Games Per 90\"))\n",
    "fig.add_trace(go.Box(y=y1,  name=\"Strikers Big Chances Created in Away Games Per 90\"))\n",
    "fig.add_trace(go.Box(y=y2,  name=\"Strikers Big Chances Missed in Home Games Per 90\"))\n",
    "fig.add_trace(go.Box(y=y3,  name=\"Strikers Big Chances Missed in Away Games Per 90\"))\n",
    "\n",
    "fig.show()"
   ]
  },
  {
   "cell_type": "code",
   "execution_count": 32,
   "metadata": {},
   "outputs": [
    {
     "data": {
      "application/vnd.plotly.v1+json": {
       "config": {
        "plotlyServerURL": "https://plot.ly"
       },
       "data": [
        {
         "name": "Strikers Key Passes in Home Games Per 90",
         "type": "box",
         "y": [
          1.226006192,
          1.092857143,
          0.9662576690000001,
          1.479289941,
          1.361573374,
          0.61317184,
          0.352595495,
          0.39244186,
          1.09962406,
          1.145685997,
          1.2716763009999998,
          1.6713091919999998,
          1.4022662890000002,
          1.532846715,
          0.846394984,
          1.813432836,
          1.010204082,
          1.276119403,
          1.373429084,
          0.897308076,
          1.1805555559999998,
          1.732283465,
          1.689008043,
          0.783972125,
          1.139240506,
          0.86042065,
          0.911392405,
          0.8626198079999999,
          1.213872832,
          0.9,
          0.519373454,
          0.960284529,
          0.8395522390000001,
          0.936106984,
          0.694980695,
          1.37195122,
          1.2378640779999999,
          0.7654921020000001,
          0.606287425,
          1.129411765,
          0.5705229789999999,
          2.053941909,
          1.088709677,
          0.7410179640000001,
          1.7468354430000002,
          0.997983871,
          0.483221477,
          1.652267819,
          1.1960132890000001,
          0.632587859,
          0.873786408,
          1.485557084,
          0.586319218,
          1.221995927,
          0.960854093,
          0.8991825609999999,
          1.9668425019999998,
          1.214392804,
          0.736842105,
          1.1481218990000002,
          2.061994609,
          2.441640379,
          1.4106583069999998,
          0.9131261890000001,
          0.79086116,
          1.241950322,
          1.279069767,
          2.058359621
         ]
        },
        {
         "name": "Strikers Key Passes in Away Games Per 90",
         "type": "box",
         "y": [
          0.540540541,
          1.148587056,
          0.670391061,
          1.35483871,
          0.820895522,
          0.85782367,
          0.842245989,
          0.48,
          1.125827815,
          0.9603658540000001,
          1.024182077,
          1.580680571,
          0.7557251909999999,
          0.858310627,
          0.519480519,
          1.1374407579999999,
          0.785340314,
          0.927835052,
          1.139240506,
          0.942408377,
          1.8057784909999999,
          1.19544592,
          1.442307692,
          0.628742515,
          1.383551115,
          0.770053476,
          1.286939943,
          1.1587982829999999,
          0.7929515420000001,
          0.778097983,
          0.9268795059999999,
          0.97332372,
          0.9878048779999999,
          0.431211499,
          0.27777777800000003,
          0.544354839,
          1.482701812,
          0.548780488,
          0.7882165609999999,
          1.566731141,
          0.98392283,
          1.575342466,
          0.979680697,
          0.8187543740000001,
          1.858064516,
          0.73512252,
          0.742268041,
          0.89010989,
          1.611687088,
          0.8951798009999999,
          0.658536585,
          0.773638968,
          1.296992481,
          1.285714286,
          0.7007786429999999,
          0.939597315,
          0.9030100329999999,
          0.736196319,
          0.279156328,
          0.828856485,
          1.318144833,
          2.132701422,
          1.131059246,
          0.6844106459999999,
          0.485961123,
          1.0933940770000001,
          1.224928367,
          1.384615385
         ]
        },
        {
         "name": "Strikers Assists in Home Games Per 90",
         "type": "box",
         "y": [
          0.167182663,
          0.385714286,
          0.13803681,
          0.059171598,
          0.40847201200000005,
          0.068130204,
          0.352595495,
          0.065406977,
          0.169172932,
          0.19094766600000002,
          0.173410405,
          0.16713091900000002,
          0.31869688399999996,
          0.328467153,
          0.141065831,
          0.201492537,
          0,
          0.402985075,
          0.646319569,
          0.08973080800000001,
          0.06944444400000001,
          0.236220472,
          0.321715818,
          0,
          0.22784810100000003,
          0.086042065,
          0.22784810100000003,
          0.287539936,
          0.26011560699999997,
          0.375,
          0,
          0.10669828099999999,
          0,
          0.066864785,
          0.115830116,
          0.45731707299999996,
          0.291262136,
          0,
          0.134730539,
          0.21176470600000002,
          0.28526149,
          0.248962656,
          0.24193548399999998,
          0.067365269,
          0.22784810100000003,
          0.181451613,
          0.12080536900000001,
          0.097192225,
          0.224252492,
          0.115015974,
          0.26213592199999997,
          0.247592847,
          0,
          0.427698574,
          0,
          0.16348773800000002,
          0.203466466,
          0.269865067,
          0.10526315800000001,
          0.19135365,
          0.303234501,
          0.454258675,
          0.28213166100000003,
          0.17121116,
          0.158172232,
          0.082796688,
          0.11627907,
          0.283911672
         ]
        },
        {
         "name": "Strikers Assists in Away Games Per 90",
         "type": "box",
         "y": [
          0.054054054000000004,
          0.492251595,
          0.083798883,
          0.064516129,
          0.447761194,
          0.142970612,
          0.12032085599999999,
          0,
          0.264900662,
          0.137195122,
          0,
          0.296377607,
          0.13740458,
          0.24523160800000002,
          0.064935065,
          0.355450237,
          0.07853403099999999,
          0.142743854,
          0.201042442,
          0.35340314100000003,
          0.28892455899999997,
          0.170777989,
          0.192307692,
          0,
          0.207532667,
          0.09625668400000001,
          0.343183985,
          0.482832618,
          0,
          0,
          0,
          0,
          0.10975609800000001,
          0,
          0,
          0,
          0,
          0.18292682899999999,
          0.071656051,
          0.348162476,
          0.23151125399999997,
          0.273972603,
          0.19593613899999998,
          0.125962211,
          0.34838709700000003,
          0,
          0.18556701,
          0.098901099,
          0,
          0.20657995399999998,
          0,
          0.085959885,
          0.112781955,
          0.223602484,
          0,
          0.067114094,
          0.301003344,
          0.24539877300000001,
          0.055831266,
          0,
          0.146460537,
          0.18280297899999998,
          0.053859964,
          0,
          0.194384449,
          0.273348519,
          0.128939828,
          0.23076923100000002
         ]
        }
       ],
       "layout": {
        "template": {
         "data": {
          "bar": [
           {
            "error_x": {
             "color": "#2a3f5f"
            },
            "error_y": {
             "color": "#2a3f5f"
            },
            "marker": {
             "line": {
              "color": "#E5ECF6",
              "width": 0.5
             }
            },
            "type": "bar"
           }
          ],
          "barpolar": [
           {
            "marker": {
             "line": {
              "color": "#E5ECF6",
              "width": 0.5
             }
            },
            "type": "barpolar"
           }
          ],
          "carpet": [
           {
            "aaxis": {
             "endlinecolor": "#2a3f5f",
             "gridcolor": "white",
             "linecolor": "white",
             "minorgridcolor": "white",
             "startlinecolor": "#2a3f5f"
            },
            "baxis": {
             "endlinecolor": "#2a3f5f",
             "gridcolor": "white",
             "linecolor": "white",
             "minorgridcolor": "white",
             "startlinecolor": "#2a3f5f"
            },
            "type": "carpet"
           }
          ],
          "choropleth": [
           {
            "colorbar": {
             "outlinewidth": 0,
             "ticks": ""
            },
            "type": "choropleth"
           }
          ],
          "contour": [
           {
            "colorbar": {
             "outlinewidth": 0,
             "ticks": ""
            },
            "colorscale": [
             [
              0,
              "#0d0887"
             ],
             [
              0.1111111111111111,
              "#46039f"
             ],
             [
              0.2222222222222222,
              "#7201a8"
             ],
             [
              0.3333333333333333,
              "#9c179e"
             ],
             [
              0.4444444444444444,
              "#bd3786"
             ],
             [
              0.5555555555555556,
              "#d8576b"
             ],
             [
              0.6666666666666666,
              "#ed7953"
             ],
             [
              0.7777777777777778,
              "#fb9f3a"
             ],
             [
              0.8888888888888888,
              "#fdca26"
             ],
             [
              1,
              "#f0f921"
             ]
            ],
            "type": "contour"
           }
          ],
          "contourcarpet": [
           {
            "colorbar": {
             "outlinewidth": 0,
             "ticks": ""
            },
            "type": "contourcarpet"
           }
          ],
          "heatmap": [
           {
            "colorbar": {
             "outlinewidth": 0,
             "ticks": ""
            },
            "colorscale": [
             [
              0,
              "#0d0887"
             ],
             [
              0.1111111111111111,
              "#46039f"
             ],
             [
              0.2222222222222222,
              "#7201a8"
             ],
             [
              0.3333333333333333,
              "#9c179e"
             ],
             [
              0.4444444444444444,
              "#bd3786"
             ],
             [
              0.5555555555555556,
              "#d8576b"
             ],
             [
              0.6666666666666666,
              "#ed7953"
             ],
             [
              0.7777777777777778,
              "#fb9f3a"
             ],
             [
              0.8888888888888888,
              "#fdca26"
             ],
             [
              1,
              "#f0f921"
             ]
            ],
            "type": "heatmap"
           }
          ],
          "heatmapgl": [
           {
            "colorbar": {
             "outlinewidth": 0,
             "ticks": ""
            },
            "colorscale": [
             [
              0,
              "#0d0887"
             ],
             [
              0.1111111111111111,
              "#46039f"
             ],
             [
              0.2222222222222222,
              "#7201a8"
             ],
             [
              0.3333333333333333,
              "#9c179e"
             ],
             [
              0.4444444444444444,
              "#bd3786"
             ],
             [
              0.5555555555555556,
              "#d8576b"
             ],
             [
              0.6666666666666666,
              "#ed7953"
             ],
             [
              0.7777777777777778,
              "#fb9f3a"
             ],
             [
              0.8888888888888888,
              "#fdca26"
             ],
             [
              1,
              "#f0f921"
             ]
            ],
            "type": "heatmapgl"
           }
          ],
          "histogram": [
           {
            "marker": {
             "colorbar": {
              "outlinewidth": 0,
              "ticks": ""
             }
            },
            "type": "histogram"
           }
          ],
          "histogram2d": [
           {
            "colorbar": {
             "outlinewidth": 0,
             "ticks": ""
            },
            "colorscale": [
             [
              0,
              "#0d0887"
             ],
             [
              0.1111111111111111,
              "#46039f"
             ],
             [
              0.2222222222222222,
              "#7201a8"
             ],
             [
              0.3333333333333333,
              "#9c179e"
             ],
             [
              0.4444444444444444,
              "#bd3786"
             ],
             [
              0.5555555555555556,
              "#d8576b"
             ],
             [
              0.6666666666666666,
              "#ed7953"
             ],
             [
              0.7777777777777778,
              "#fb9f3a"
             ],
             [
              0.8888888888888888,
              "#fdca26"
             ],
             [
              1,
              "#f0f921"
             ]
            ],
            "type": "histogram2d"
           }
          ],
          "histogram2dcontour": [
           {
            "colorbar": {
             "outlinewidth": 0,
             "ticks": ""
            },
            "colorscale": [
             [
              0,
              "#0d0887"
             ],
             [
              0.1111111111111111,
              "#46039f"
             ],
             [
              0.2222222222222222,
              "#7201a8"
             ],
             [
              0.3333333333333333,
              "#9c179e"
             ],
             [
              0.4444444444444444,
              "#bd3786"
             ],
             [
              0.5555555555555556,
              "#d8576b"
             ],
             [
              0.6666666666666666,
              "#ed7953"
             ],
             [
              0.7777777777777778,
              "#fb9f3a"
             ],
             [
              0.8888888888888888,
              "#fdca26"
             ],
             [
              1,
              "#f0f921"
             ]
            ],
            "type": "histogram2dcontour"
           }
          ],
          "mesh3d": [
           {
            "colorbar": {
             "outlinewidth": 0,
             "ticks": ""
            },
            "type": "mesh3d"
           }
          ],
          "parcoords": [
           {
            "line": {
             "colorbar": {
              "outlinewidth": 0,
              "ticks": ""
             }
            },
            "type": "parcoords"
           }
          ],
          "pie": [
           {
            "automargin": true,
            "type": "pie"
           }
          ],
          "scatter": [
           {
            "marker": {
             "colorbar": {
              "outlinewidth": 0,
              "ticks": ""
             }
            },
            "type": "scatter"
           }
          ],
          "scatter3d": [
           {
            "line": {
             "colorbar": {
              "outlinewidth": 0,
              "ticks": ""
             }
            },
            "marker": {
             "colorbar": {
              "outlinewidth": 0,
              "ticks": ""
             }
            },
            "type": "scatter3d"
           }
          ],
          "scattercarpet": [
           {
            "marker": {
             "colorbar": {
              "outlinewidth": 0,
              "ticks": ""
             }
            },
            "type": "scattercarpet"
           }
          ],
          "scattergeo": [
           {
            "marker": {
             "colorbar": {
              "outlinewidth": 0,
              "ticks": ""
             }
            },
            "type": "scattergeo"
           }
          ],
          "scattergl": [
           {
            "marker": {
             "colorbar": {
              "outlinewidth": 0,
              "ticks": ""
             }
            },
            "type": "scattergl"
           }
          ],
          "scattermapbox": [
           {
            "marker": {
             "colorbar": {
              "outlinewidth": 0,
              "ticks": ""
             }
            },
            "type": "scattermapbox"
           }
          ],
          "scatterpolar": [
           {
            "marker": {
             "colorbar": {
              "outlinewidth": 0,
              "ticks": ""
             }
            },
            "type": "scatterpolar"
           }
          ],
          "scatterpolargl": [
           {
            "marker": {
             "colorbar": {
              "outlinewidth": 0,
              "ticks": ""
             }
            },
            "type": "scatterpolargl"
           }
          ],
          "scatterternary": [
           {
            "marker": {
             "colorbar": {
              "outlinewidth": 0,
              "ticks": ""
             }
            },
            "type": "scatterternary"
           }
          ],
          "surface": [
           {
            "colorbar": {
             "outlinewidth": 0,
             "ticks": ""
            },
            "colorscale": [
             [
              0,
              "#0d0887"
             ],
             [
              0.1111111111111111,
              "#46039f"
             ],
             [
              0.2222222222222222,
              "#7201a8"
             ],
             [
              0.3333333333333333,
              "#9c179e"
             ],
             [
              0.4444444444444444,
              "#bd3786"
             ],
             [
              0.5555555555555556,
              "#d8576b"
             ],
             [
              0.6666666666666666,
              "#ed7953"
             ],
             [
              0.7777777777777778,
              "#fb9f3a"
             ],
             [
              0.8888888888888888,
              "#fdca26"
             ],
             [
              1,
              "#f0f921"
             ]
            ],
            "type": "surface"
           }
          ],
          "table": [
           {
            "cells": {
             "fill": {
              "color": "#EBF0F8"
             },
             "line": {
              "color": "white"
             }
            },
            "header": {
             "fill": {
              "color": "#C8D4E3"
             },
             "line": {
              "color": "white"
             }
            },
            "type": "table"
           }
          ]
         },
         "layout": {
          "annotationdefaults": {
           "arrowcolor": "#2a3f5f",
           "arrowhead": 0,
           "arrowwidth": 1
          },
          "coloraxis": {
           "colorbar": {
            "outlinewidth": 0,
            "ticks": ""
           }
          },
          "colorscale": {
           "diverging": [
            [
             0,
             "#8e0152"
            ],
            [
             0.1,
             "#c51b7d"
            ],
            [
             0.2,
             "#de77ae"
            ],
            [
             0.3,
             "#f1b6da"
            ],
            [
             0.4,
             "#fde0ef"
            ],
            [
             0.5,
             "#f7f7f7"
            ],
            [
             0.6,
             "#e6f5d0"
            ],
            [
             0.7,
             "#b8e186"
            ],
            [
             0.8,
             "#7fbc41"
            ],
            [
             0.9,
             "#4d9221"
            ],
            [
             1,
             "#276419"
            ]
           ],
           "sequential": [
            [
             0,
             "#0d0887"
            ],
            [
             0.1111111111111111,
             "#46039f"
            ],
            [
             0.2222222222222222,
             "#7201a8"
            ],
            [
             0.3333333333333333,
             "#9c179e"
            ],
            [
             0.4444444444444444,
             "#bd3786"
            ],
            [
             0.5555555555555556,
             "#d8576b"
            ],
            [
             0.6666666666666666,
             "#ed7953"
            ],
            [
             0.7777777777777778,
             "#fb9f3a"
            ],
            [
             0.8888888888888888,
             "#fdca26"
            ],
            [
             1,
             "#f0f921"
            ]
           ],
           "sequentialminus": [
            [
             0,
             "#0d0887"
            ],
            [
             0.1111111111111111,
             "#46039f"
            ],
            [
             0.2222222222222222,
             "#7201a8"
            ],
            [
             0.3333333333333333,
             "#9c179e"
            ],
            [
             0.4444444444444444,
             "#bd3786"
            ],
            [
             0.5555555555555556,
             "#d8576b"
            ],
            [
             0.6666666666666666,
             "#ed7953"
            ],
            [
             0.7777777777777778,
             "#fb9f3a"
            ],
            [
             0.8888888888888888,
             "#fdca26"
            ],
            [
             1,
             "#f0f921"
            ]
           ]
          },
          "colorway": [
           "#636efa",
           "#EF553B",
           "#00cc96",
           "#ab63fa",
           "#FFA15A",
           "#19d3f3",
           "#FF6692",
           "#B6E880",
           "#FF97FF",
           "#FECB52"
          ],
          "font": {
           "color": "#2a3f5f"
          },
          "geo": {
           "bgcolor": "white",
           "lakecolor": "white",
           "landcolor": "#E5ECF6",
           "showlakes": true,
           "showland": true,
           "subunitcolor": "white"
          },
          "hoverlabel": {
           "align": "left"
          },
          "hovermode": "closest",
          "mapbox": {
           "style": "light"
          },
          "paper_bgcolor": "white",
          "plot_bgcolor": "#E5ECF6",
          "polar": {
           "angularaxis": {
            "gridcolor": "white",
            "linecolor": "white",
            "ticks": ""
           },
           "bgcolor": "#E5ECF6",
           "radialaxis": {
            "gridcolor": "white",
            "linecolor": "white",
            "ticks": ""
           }
          },
          "scene": {
           "xaxis": {
            "backgroundcolor": "#E5ECF6",
            "gridcolor": "white",
            "gridwidth": 2,
            "linecolor": "white",
            "showbackground": true,
            "ticks": "",
            "zerolinecolor": "white"
           },
           "yaxis": {
            "backgroundcolor": "#E5ECF6",
            "gridcolor": "white",
            "gridwidth": 2,
            "linecolor": "white",
            "showbackground": true,
            "ticks": "",
            "zerolinecolor": "white"
           },
           "zaxis": {
            "backgroundcolor": "#E5ECF6",
            "gridcolor": "white",
            "gridwidth": 2,
            "linecolor": "white",
            "showbackground": true,
            "ticks": "",
            "zerolinecolor": "white"
           }
          },
          "shapedefaults": {
           "line": {
            "color": "#2a3f5f"
           }
          },
          "ternary": {
           "aaxis": {
            "gridcolor": "white",
            "linecolor": "white",
            "ticks": ""
           },
           "baxis": {
            "gridcolor": "white",
            "linecolor": "white",
            "ticks": ""
           },
           "bgcolor": "#E5ECF6",
           "caxis": {
            "gridcolor": "white",
            "linecolor": "white",
            "ticks": ""
           }
          },
          "title": {
           "x": 0.05
          },
          "xaxis": {
           "automargin": true,
           "gridcolor": "white",
           "linecolor": "white",
           "ticks": "",
           "title": {
            "standoff": 15
           },
           "zerolinecolor": "white",
           "zerolinewidth": 2
          },
          "yaxis": {
           "automargin": true,
           "gridcolor": "white",
           "linecolor": "white",
           "ticks": "",
           "title": {
            "standoff": 15
           },
           "zerolinecolor": "white",
           "zerolinewidth": 2
          }
         }
        }
       }
      },
      "text/html": [
       "<div>                            <div id=\"8f50a631-8339-4548-8833-750d6f24baa1\" class=\"plotly-graph-div\" style=\"height:525px; width:100%;\"></div>            <script type=\"text/javascript\">                require([\"plotly\"], function(Plotly) {                    window.PLOTLYENV=window.PLOTLYENV || {};                                    if (document.getElementById(\"8f50a631-8339-4548-8833-750d6f24baa1\")) {                    Plotly.newPlot(                        \"8f50a631-8339-4548-8833-750d6f24baa1\",                        [{\"name\": \"Strikers Key Passes in Home Games Per 90\", \"type\": \"box\", \"y\": [1.226006192, 1.092857143, 0.9662576690000001, 1.479289941, 1.361573374, 0.61317184, 0.352595495, 0.39244186, 1.09962406, 1.145685997, 1.2716763009999998, 1.6713091919999998, 1.4022662890000002, 1.532846715, 0.846394984, 1.813432836, 1.010204082, 1.276119403, 1.373429084, 0.897308076, 1.1805555559999998, 1.732283465, 1.689008043, 0.783972125, 1.139240506, 0.86042065, 0.911392405, 0.8626198079999999, 1.213872832, 0.9, 0.519373454, 0.960284529, 0.8395522390000001, 0.936106984, 0.694980695, 1.37195122, 1.2378640779999999, 0.7654921020000001, 0.606287425, 1.129411765, 0.5705229789999999, 2.053941909, 1.088709677, 0.7410179640000001, 1.7468354430000002, 0.997983871, 0.483221477, 1.652267819, 1.1960132890000001, 0.632587859, 0.873786408, 1.485557084, 0.586319218, 1.221995927, 0.960854093, 0.8991825609999999, 1.9668425019999998, 1.214392804, 0.736842105, 1.1481218990000002, 2.061994609, 2.441640379, 1.4106583069999998, 0.9131261890000001, 0.79086116, 1.241950322, 1.279069767, 2.058359621]}, {\"name\": \"Strikers Key Passes in Away Games Per 90\", \"type\": \"box\", \"y\": [0.540540541, 1.148587056, 0.670391061, 1.35483871, 0.820895522, 0.85782367, 0.842245989, 0.48, 1.125827815, 0.9603658540000001, 1.024182077, 1.580680571, 0.7557251909999999, 0.858310627, 0.519480519, 1.1374407579999999, 0.785340314, 0.927835052, 1.139240506, 0.942408377, 1.8057784909999999, 1.19544592, 1.442307692, 0.628742515, 1.383551115, 0.770053476, 1.286939943, 1.1587982829999999, 0.7929515420000001, 0.778097983, 0.9268795059999999, 0.97332372, 0.9878048779999999, 0.431211499, 0.27777777800000003, 0.544354839, 1.482701812, 0.548780488, 0.7882165609999999, 1.566731141, 0.98392283, 1.575342466, 0.979680697, 0.8187543740000001, 1.858064516, 0.73512252, 0.742268041, 0.89010989, 1.611687088, 0.8951798009999999, 0.658536585, 0.773638968, 1.296992481, 1.285714286, 0.7007786429999999, 0.939597315, 0.9030100329999999, 0.736196319, 0.279156328, 0.828856485, 1.318144833, 2.132701422, 1.131059246, 0.6844106459999999, 0.485961123, 1.0933940770000001, 1.224928367, 1.384615385]}, {\"name\": \"Strikers Assists in Home Games Per 90\", \"type\": \"box\", \"y\": [0.167182663, 0.385714286, 0.13803681, 0.059171598, 0.40847201200000005, 0.068130204, 0.352595495, 0.065406977, 0.169172932, 0.19094766600000002, 0.173410405, 0.16713091900000002, 0.31869688399999996, 0.328467153, 0.141065831, 0.201492537, 0.0, 0.402985075, 0.646319569, 0.08973080800000001, 0.06944444400000001, 0.236220472, 0.321715818, 0.0, 0.22784810100000003, 0.086042065, 0.22784810100000003, 0.287539936, 0.26011560699999997, 0.375, 0.0, 0.10669828099999999, 0.0, 0.066864785, 0.115830116, 0.45731707299999996, 0.291262136, 0.0, 0.134730539, 0.21176470600000002, 0.28526149, 0.248962656, 0.24193548399999998, 0.067365269, 0.22784810100000003, 0.181451613, 0.12080536900000001, 0.097192225, 0.224252492, 0.115015974, 0.26213592199999997, 0.247592847, 0.0, 0.427698574, 0.0, 0.16348773800000002, 0.203466466, 0.269865067, 0.10526315800000001, 0.19135365, 0.303234501, 0.454258675, 0.28213166100000003, 0.17121116, 0.158172232, 0.082796688, 0.11627907, 0.283911672]}, {\"name\": \"Strikers Assists in Away Games Per 90\", \"type\": \"box\", \"y\": [0.054054054000000004, 0.492251595, 0.083798883, 0.064516129, 0.447761194, 0.142970612, 0.12032085599999999, 0.0, 0.264900662, 0.137195122, 0.0, 0.296377607, 0.13740458, 0.24523160800000002, 0.064935065, 0.355450237, 0.07853403099999999, 0.142743854, 0.201042442, 0.35340314100000003, 0.28892455899999997, 0.170777989, 0.192307692, 0.0, 0.207532667, 0.09625668400000001, 0.343183985, 0.482832618, 0.0, 0.0, 0.0, 0.0, 0.10975609800000001, 0.0, 0.0, 0.0, 0.0, 0.18292682899999999, 0.071656051, 0.348162476, 0.23151125399999997, 0.273972603, 0.19593613899999998, 0.125962211, 0.34838709700000003, 0.0, 0.18556701, 0.098901099, 0.0, 0.20657995399999998, 0.0, 0.085959885, 0.112781955, 0.223602484, 0.0, 0.067114094, 0.301003344, 0.24539877300000001, 0.055831266, 0.0, 0.146460537, 0.18280297899999998, 0.053859964, 0.0, 0.194384449, 0.273348519, 0.128939828, 0.23076923100000002]}],                        {\"template\": {\"data\": {\"bar\": [{\"error_x\": {\"color\": \"#2a3f5f\"}, \"error_y\": {\"color\": \"#2a3f5f\"}, \"marker\": {\"line\": {\"color\": \"#E5ECF6\", \"width\": 0.5}}, \"type\": \"bar\"}], \"barpolar\": [{\"marker\": {\"line\": {\"color\": \"#E5ECF6\", \"width\": 0.5}}, \"type\": \"barpolar\"}], \"carpet\": [{\"aaxis\": {\"endlinecolor\": \"#2a3f5f\", \"gridcolor\": \"white\", \"linecolor\": \"white\", \"minorgridcolor\": \"white\", \"startlinecolor\": \"#2a3f5f\"}, \"baxis\": {\"endlinecolor\": \"#2a3f5f\", \"gridcolor\": \"white\", \"linecolor\": \"white\", \"minorgridcolor\": \"white\", \"startlinecolor\": \"#2a3f5f\"}, \"type\": \"carpet\"}], \"choropleth\": [{\"colorbar\": {\"outlinewidth\": 0, \"ticks\": \"\"}, \"type\": \"choropleth\"}], \"contour\": [{\"colorbar\": {\"outlinewidth\": 0, \"ticks\": \"\"}, \"colorscale\": [[0.0, \"#0d0887\"], [0.1111111111111111, \"#46039f\"], [0.2222222222222222, \"#7201a8\"], [0.3333333333333333, \"#9c179e\"], [0.4444444444444444, \"#bd3786\"], [0.5555555555555556, \"#d8576b\"], [0.6666666666666666, \"#ed7953\"], [0.7777777777777778, \"#fb9f3a\"], [0.8888888888888888, \"#fdca26\"], [1.0, \"#f0f921\"]], \"type\": \"contour\"}], \"contourcarpet\": [{\"colorbar\": {\"outlinewidth\": 0, \"ticks\": \"\"}, \"type\": \"contourcarpet\"}], \"heatmap\": [{\"colorbar\": {\"outlinewidth\": 0, \"ticks\": \"\"}, \"colorscale\": [[0.0, \"#0d0887\"], [0.1111111111111111, \"#46039f\"], [0.2222222222222222, \"#7201a8\"], [0.3333333333333333, \"#9c179e\"], [0.4444444444444444, \"#bd3786\"], [0.5555555555555556, \"#d8576b\"], [0.6666666666666666, \"#ed7953\"], [0.7777777777777778, \"#fb9f3a\"], [0.8888888888888888, \"#fdca26\"], [1.0, \"#f0f921\"]], \"type\": \"heatmap\"}], \"heatmapgl\": [{\"colorbar\": {\"outlinewidth\": 0, \"ticks\": \"\"}, \"colorscale\": [[0.0, \"#0d0887\"], [0.1111111111111111, \"#46039f\"], [0.2222222222222222, \"#7201a8\"], [0.3333333333333333, \"#9c179e\"], [0.4444444444444444, \"#bd3786\"], [0.5555555555555556, \"#d8576b\"], [0.6666666666666666, \"#ed7953\"], [0.7777777777777778, \"#fb9f3a\"], [0.8888888888888888, \"#fdca26\"], [1.0, \"#f0f921\"]], \"type\": \"heatmapgl\"}], \"histogram\": [{\"marker\": {\"colorbar\": {\"outlinewidth\": 0, \"ticks\": \"\"}}, \"type\": \"histogram\"}], \"histogram2d\": [{\"colorbar\": {\"outlinewidth\": 0, \"ticks\": \"\"}, \"colorscale\": [[0.0, \"#0d0887\"], [0.1111111111111111, \"#46039f\"], [0.2222222222222222, \"#7201a8\"], [0.3333333333333333, \"#9c179e\"], [0.4444444444444444, \"#bd3786\"], [0.5555555555555556, \"#d8576b\"], [0.6666666666666666, \"#ed7953\"], [0.7777777777777778, \"#fb9f3a\"], [0.8888888888888888, \"#fdca26\"], [1.0, \"#f0f921\"]], \"type\": \"histogram2d\"}], \"histogram2dcontour\": [{\"colorbar\": {\"outlinewidth\": 0, \"ticks\": \"\"}, \"colorscale\": [[0.0, \"#0d0887\"], [0.1111111111111111, \"#46039f\"], [0.2222222222222222, \"#7201a8\"], [0.3333333333333333, \"#9c179e\"], [0.4444444444444444, \"#bd3786\"], [0.5555555555555556, \"#d8576b\"], [0.6666666666666666, \"#ed7953\"], [0.7777777777777778, \"#fb9f3a\"], [0.8888888888888888, \"#fdca26\"], [1.0, \"#f0f921\"]], \"type\": \"histogram2dcontour\"}], \"mesh3d\": [{\"colorbar\": {\"outlinewidth\": 0, \"ticks\": \"\"}, \"type\": \"mesh3d\"}], \"parcoords\": [{\"line\": {\"colorbar\": {\"outlinewidth\": 0, \"ticks\": \"\"}}, \"type\": \"parcoords\"}], \"pie\": [{\"automargin\": true, \"type\": \"pie\"}], \"scatter\": [{\"marker\": {\"colorbar\": {\"outlinewidth\": 0, \"ticks\": \"\"}}, \"type\": \"scatter\"}], \"scatter3d\": [{\"line\": {\"colorbar\": {\"outlinewidth\": 0, \"ticks\": \"\"}}, \"marker\": {\"colorbar\": {\"outlinewidth\": 0, \"ticks\": \"\"}}, \"type\": \"scatter3d\"}], \"scattercarpet\": [{\"marker\": {\"colorbar\": {\"outlinewidth\": 0, \"ticks\": \"\"}}, \"type\": \"scattercarpet\"}], \"scattergeo\": [{\"marker\": {\"colorbar\": {\"outlinewidth\": 0, \"ticks\": \"\"}}, \"type\": \"scattergeo\"}], \"scattergl\": [{\"marker\": {\"colorbar\": {\"outlinewidth\": 0, \"ticks\": \"\"}}, \"type\": \"scattergl\"}], \"scattermapbox\": [{\"marker\": {\"colorbar\": {\"outlinewidth\": 0, \"ticks\": \"\"}}, \"type\": \"scattermapbox\"}], \"scatterpolar\": [{\"marker\": {\"colorbar\": {\"outlinewidth\": 0, \"ticks\": \"\"}}, \"type\": \"scatterpolar\"}], \"scatterpolargl\": [{\"marker\": {\"colorbar\": {\"outlinewidth\": 0, \"ticks\": \"\"}}, \"type\": \"scatterpolargl\"}], \"scatterternary\": [{\"marker\": {\"colorbar\": {\"outlinewidth\": 0, \"ticks\": \"\"}}, \"type\": \"scatterternary\"}], \"surface\": [{\"colorbar\": {\"outlinewidth\": 0, \"ticks\": \"\"}, \"colorscale\": [[0.0, \"#0d0887\"], [0.1111111111111111, \"#46039f\"], [0.2222222222222222, \"#7201a8\"], [0.3333333333333333, \"#9c179e\"], [0.4444444444444444, \"#bd3786\"], [0.5555555555555556, \"#d8576b\"], [0.6666666666666666, \"#ed7953\"], [0.7777777777777778, \"#fb9f3a\"], [0.8888888888888888, \"#fdca26\"], [1.0, \"#f0f921\"]], \"type\": \"surface\"}], \"table\": [{\"cells\": {\"fill\": {\"color\": \"#EBF0F8\"}, \"line\": {\"color\": \"white\"}}, \"header\": {\"fill\": {\"color\": \"#C8D4E3\"}, \"line\": {\"color\": \"white\"}}, \"type\": \"table\"}]}, \"layout\": {\"annotationdefaults\": {\"arrowcolor\": \"#2a3f5f\", \"arrowhead\": 0, \"arrowwidth\": 1}, \"coloraxis\": {\"colorbar\": {\"outlinewidth\": 0, \"ticks\": \"\"}}, \"colorscale\": {\"diverging\": [[0, \"#8e0152\"], [0.1, \"#c51b7d\"], [0.2, \"#de77ae\"], [0.3, \"#f1b6da\"], [0.4, \"#fde0ef\"], [0.5, \"#f7f7f7\"], [0.6, \"#e6f5d0\"], [0.7, \"#b8e186\"], [0.8, \"#7fbc41\"], [0.9, \"#4d9221\"], [1, \"#276419\"]], \"sequential\": [[0.0, \"#0d0887\"], [0.1111111111111111, \"#46039f\"], [0.2222222222222222, \"#7201a8\"], [0.3333333333333333, \"#9c179e\"], [0.4444444444444444, \"#bd3786\"], [0.5555555555555556, \"#d8576b\"], [0.6666666666666666, \"#ed7953\"], [0.7777777777777778, \"#fb9f3a\"], [0.8888888888888888, \"#fdca26\"], [1.0, \"#f0f921\"]], \"sequentialminus\": [[0.0, \"#0d0887\"], [0.1111111111111111, \"#46039f\"], [0.2222222222222222, \"#7201a8\"], [0.3333333333333333, \"#9c179e\"], [0.4444444444444444, \"#bd3786\"], [0.5555555555555556, \"#d8576b\"], [0.6666666666666666, \"#ed7953\"], [0.7777777777777778, \"#fb9f3a\"], [0.8888888888888888, \"#fdca26\"], [1.0, \"#f0f921\"]]}, \"colorway\": [\"#636efa\", \"#EF553B\", \"#00cc96\", \"#ab63fa\", \"#FFA15A\", \"#19d3f3\", \"#FF6692\", \"#B6E880\", \"#FF97FF\", \"#FECB52\"], \"font\": {\"color\": \"#2a3f5f\"}, \"geo\": {\"bgcolor\": \"white\", \"lakecolor\": \"white\", \"landcolor\": \"#E5ECF6\", \"showlakes\": true, \"showland\": true, \"subunitcolor\": \"white\"}, \"hoverlabel\": {\"align\": \"left\"}, \"hovermode\": \"closest\", \"mapbox\": {\"style\": \"light\"}, \"paper_bgcolor\": \"white\", \"plot_bgcolor\": \"#E5ECF6\", \"polar\": {\"angularaxis\": {\"gridcolor\": \"white\", \"linecolor\": \"white\", \"ticks\": \"\"}, \"bgcolor\": \"#E5ECF6\", \"radialaxis\": {\"gridcolor\": \"white\", \"linecolor\": \"white\", \"ticks\": \"\"}}, \"scene\": {\"xaxis\": {\"backgroundcolor\": \"#E5ECF6\", \"gridcolor\": \"white\", \"gridwidth\": 2, \"linecolor\": \"white\", \"showbackground\": true, \"ticks\": \"\", \"zerolinecolor\": \"white\"}, \"yaxis\": {\"backgroundcolor\": \"#E5ECF6\", \"gridcolor\": \"white\", \"gridwidth\": 2, \"linecolor\": \"white\", \"showbackground\": true, \"ticks\": \"\", \"zerolinecolor\": \"white\"}, \"zaxis\": {\"backgroundcolor\": \"#E5ECF6\", \"gridcolor\": \"white\", \"gridwidth\": 2, \"linecolor\": \"white\", \"showbackground\": true, \"ticks\": \"\", \"zerolinecolor\": \"white\"}}, \"shapedefaults\": {\"line\": {\"color\": \"#2a3f5f\"}}, \"ternary\": {\"aaxis\": {\"gridcolor\": \"white\", \"linecolor\": \"white\", \"ticks\": \"\"}, \"baxis\": {\"gridcolor\": \"white\", \"linecolor\": \"white\", \"ticks\": \"\"}, \"bgcolor\": \"#E5ECF6\", \"caxis\": {\"gridcolor\": \"white\", \"linecolor\": \"white\", \"ticks\": \"\"}}, \"title\": {\"x\": 0.05}, \"xaxis\": {\"automargin\": true, \"gridcolor\": \"white\", \"linecolor\": \"white\", \"ticks\": \"\", \"title\": {\"standoff\": 15}, \"zerolinecolor\": \"white\", \"zerolinewidth\": 2}, \"yaxis\": {\"automargin\": true, \"gridcolor\": \"white\", \"linecolor\": \"white\", \"ticks\": \"\", \"title\": {\"standoff\": 15}, \"zerolinecolor\": \"white\", \"zerolinewidth\": 2}}}},                        {\"responsive\": true}                    ).then(function(){\n",
       "                            \n",
       "var gd = document.getElementById('8f50a631-8339-4548-8833-750d6f24baa1');\n",
       "var x = new MutationObserver(function (mutations, observer) {{\n",
       "        var display = window.getComputedStyle(gd).display;\n",
       "        if (!display || display === 'none') {{\n",
       "            console.log([gd, 'removed!']);\n",
       "            Plotly.purge(gd);\n",
       "            observer.disconnect();\n",
       "        }}\n",
       "}});\n",
       "\n",
       "// Listen for the removal of the full notebook cells\n",
       "var notebookContainer = gd.closest('#notebook-container');\n",
       "if (notebookContainer) {{\n",
       "    x.observe(notebookContainer, {childList: true});\n",
       "}}\n",
       "\n",
       "// Listen for the clearing of the current output cell\n",
       "var outputEl = gd.closest('.output');\n",
       "if (outputEl) {{\n",
       "    x.observe(outputEl, {childList: true});\n",
       "}}\n",
       "\n",
       "                        })                };                });            </script>        </div>"
      ]
     },
     "metadata": {},
     "output_type": "display_data"
    }
   ],
   "source": [
    "y0 = Home['key_passes_(per_90)']\n",
    "y1 = Away['key_passes_(per_90)']\n",
    "y2 = Home['assists_(per_90)']\n",
    "y3 = Away['assists_(per_90)']\n",
    "\n",
    "fig = go.Figure()\n",
    "fig.add_trace(go.Box(y=y0,  name=\"Strikers Key Passes in Home Games Per 90\"))\n",
    "fig.add_trace(go.Box(y=y1,  name=\"Strikers Key Passes in Away Games Per 90\"))\n",
    "fig.add_trace(go.Box(y=y2,  name=\"Strikers Assists in Home Games Per 90\"))\n",
    "fig.add_trace(go.Box(y=y3,  name=\"Strikers Assists in Away Games Per 90\"))\n",
    "\n",
    "fig.show()"
   ]
  },
  {
   "cell_type": "code",
   "execution_count": 16,
   "metadata": {},
   "outputs": [
    {
     "data": {
      "text/html": [
       "<div>\n",
       "<style scoped>\n",
       "    .dataframe tbody tr th:only-of-type {\n",
       "        vertical-align: middle;\n",
       "    }\n",
       "\n",
       "    .dataframe tbody tr th {\n",
       "        vertical-align: top;\n",
       "    }\n",
       "\n",
       "    .dataframe thead th {\n",
       "        text-align: right;\n",
       "    }\n",
       "</style>\n",
       "<table border=\"1\" class=\"dataframe\">\n",
       "  <thead>\n",
       "    <tr style=\"text-align: right;\">\n",
       "      <th></th>\n",
       "      <th></th>\n",
       "      <th>assists_(per_90)</th>\n",
       "      <th>attempted_passes_(per_90)</th>\n",
       "      <th>big_chances_created_(per_90)</th>\n",
       "      <th>big_chances_missed_(per_90)</th>\n",
       "      <th>completed_passes_(per_90)</th>\n",
       "      <th>dribbles_(per_90)</th>\n",
       "      <th>goals_scored_(per_90)</th>\n",
       "      <th>key_passes_(per_90)</th>\n",
       "      <th>offside_(per_90)</th>\n",
       "      <th>tackled/lost_possession_(per_90)</th>\n",
       "      <th>target_missed_(per_90)</th>\n",
       "      <th>winning_goals_(per_90)</th>\n",
       "      <th>tackles_(per_90)</th>\n",
       "      <th>red_cards_(per_90)</th>\n",
       "      <th>yellow_cards_(per_90)</th>\n",
       "    </tr>\n",
       "    <tr>\n",
       "      <th>Season</th>\n",
       "      <th>was_home</th>\n",
       "      <th></th>\n",
       "      <th></th>\n",
       "      <th></th>\n",
       "      <th></th>\n",
       "      <th></th>\n",
       "      <th></th>\n",
       "      <th></th>\n",
       "      <th></th>\n",
       "      <th></th>\n",
       "      <th></th>\n",
       "      <th></th>\n",
       "      <th></th>\n",
       "      <th></th>\n",
       "      <th></th>\n",
       "      <th></th>\n",
       "    </tr>\n",
       "  </thead>\n",
       "  <tbody>\n",
       "    <tr>\n",
       "      <th rowspan=\"2\" valign=\"top\">16/17</th>\n",
       "      <th>0</th>\n",
       "      <td>0.201993</td>\n",
       "      <td>25.939977</td>\n",
       "      <td>0.186264</td>\n",
       "      <td>0.321448</td>\n",
       "      <td>18.088642</td>\n",
       "      <td>1.264969</td>\n",
       "      <td>0.484675</td>\n",
       "      <td>1.259165</td>\n",
       "      <td>0.842181</td>\n",
       "      <td>2.967418</td>\n",
       "      <td>1.055608</td>\n",
       "      <td>0.149387</td>\n",
       "      <td>0.468990</td>\n",
       "      <td>0.007550</td>\n",
       "      <td>0.146328</td>\n",
       "    </tr>\n",
       "    <tr>\n",
       "      <th>1</th>\n",
       "      <td>0.132044</td>\n",
       "      <td>26.170178</td>\n",
       "      <td>0.121276</td>\n",
       "      <td>0.207109</td>\n",
       "      <td>18.308032</td>\n",
       "      <td>0.996064</td>\n",
       "      <td>0.417301</td>\n",
       "      <td>0.986993</td>\n",
       "      <td>0.732896</td>\n",
       "      <td>2.834444</td>\n",
       "      <td>0.810511</td>\n",
       "      <td>0.107919</td>\n",
       "      <td>0.416053</td>\n",
       "      <td>0.007753</td>\n",
       "      <td>0.158740</td>\n",
       "    </tr>\n",
       "    <tr>\n",
       "      <th rowspan=\"2\" valign=\"top\">17/18</th>\n",
       "      <th>0</th>\n",
       "      <td>0.182210</td>\n",
       "      <td>25.143254</td>\n",
       "      <td>0.190295</td>\n",
       "      <td>0.307931</td>\n",
       "      <td>17.322064</td>\n",
       "      <td>1.253363</td>\n",
       "      <td>0.405110</td>\n",
       "      <td>1.060165</td>\n",
       "      <td>0.799335</td>\n",
       "      <td>2.916963</td>\n",
       "      <td>1.008426</td>\n",
       "      <td>0.114423</td>\n",
       "      <td>0.481226</td>\n",
       "      <td>0.003471</td>\n",
       "      <td>0.131157</td>\n",
       "    </tr>\n",
       "    <tr>\n",
       "      <th>1</th>\n",
       "      <td>0.130915</td>\n",
       "      <td>24.858714</td>\n",
       "      <td>0.151521</td>\n",
       "      <td>0.277079</td>\n",
       "      <td>17.166653</td>\n",
       "      <td>1.070627</td>\n",
       "      <td>0.324145</td>\n",
       "      <td>1.005701</td>\n",
       "      <td>0.758756</td>\n",
       "      <td>2.884002</td>\n",
       "      <td>0.877732</td>\n",
       "      <td>0.085211</td>\n",
       "      <td>0.590533</td>\n",
       "      <td>0.005589</td>\n",
       "      <td>0.142854</td>\n",
       "    </tr>\n",
       "    <tr>\n",
       "      <th rowspan=\"2\" valign=\"top\">18/19</th>\n",
       "      <th>0</th>\n",
       "      <td>0.216361</td>\n",
       "      <td>25.316076</td>\n",
       "      <td>0.235060</td>\n",
       "      <td>0.399941</td>\n",
       "      <td>18.355755</td>\n",
       "      <td>0.894598</td>\n",
       "      <td>0.480666</td>\n",
       "      <td>1.143097</td>\n",
       "      <td>0.835952</td>\n",
       "      <td>2.333848</td>\n",
       "      <td>1.114437</td>\n",
       "      <td>0.145519</td>\n",
       "      <td>0.347063</td>\n",
       "      <td>0.010611</td>\n",
       "      <td>0.108287</td>\n",
       "    </tr>\n",
       "    <tr>\n",
       "      <th>1</th>\n",
       "      <td>0.189134</td>\n",
       "      <td>24.726663</td>\n",
       "      <td>0.191987</td>\n",
       "      <td>0.351571</td>\n",
       "      <td>17.288826</td>\n",
       "      <td>0.931424</td>\n",
       "      <td>0.401980</td>\n",
       "      <td>0.965616</td>\n",
       "      <td>0.713342</td>\n",
       "      <td>2.765093</td>\n",
       "      <td>0.926947</td>\n",
       "      <td>0.117483</td>\n",
       "      <td>0.310019</td>\n",
       "      <td>0.003092</td>\n",
       "      <td>0.126076</td>\n",
       "    </tr>\n",
       "  </tbody>\n",
       "</table>\n",
       "</div>"
      ],
      "text/plain": [
       "                 assists_(per_90)  attempted_passes_(per_90)  \\\n",
       "Season was_home                                                \n",
       "16/17  0                 0.201993                  25.939977   \n",
       "       1                 0.132044                  26.170178   \n",
       "17/18  0                 0.182210                  25.143254   \n",
       "       1                 0.130915                  24.858714   \n",
       "18/19  0                 0.216361                  25.316076   \n",
       "       1                 0.189134                  24.726663   \n",
       "\n",
       "                 big_chances_created_(per_90)  big_chances_missed_(per_90)  \\\n",
       "Season was_home                                                              \n",
       "16/17  0                             0.186264                     0.321448   \n",
       "       1                             0.121276                     0.207109   \n",
       "17/18  0                             0.190295                     0.307931   \n",
       "       1                             0.151521                     0.277079   \n",
       "18/19  0                             0.235060                     0.399941   \n",
       "       1                             0.191987                     0.351571   \n",
       "\n",
       "                 completed_passes_(per_90)  dribbles_(per_90)  \\\n",
       "Season was_home                                                 \n",
       "16/17  0                         18.088642           1.264969   \n",
       "       1                         18.308032           0.996064   \n",
       "17/18  0                         17.322064           1.253363   \n",
       "       1                         17.166653           1.070627   \n",
       "18/19  0                         18.355755           0.894598   \n",
       "       1                         17.288826           0.931424   \n",
       "\n",
       "                 goals_scored_(per_90)  key_passes_(per_90)  offside_(per_90)  \\\n",
       "Season was_home                                                                 \n",
       "16/17  0                      0.484675             1.259165          0.842181   \n",
       "       1                      0.417301             0.986993          0.732896   \n",
       "17/18  0                      0.405110             1.060165          0.799335   \n",
       "       1                      0.324145             1.005701          0.758756   \n",
       "18/19  0                      0.480666             1.143097          0.835952   \n",
       "       1                      0.401980             0.965616          0.713342   \n",
       "\n",
       "                 tackled/lost_possession_(per_90)  target_missed_(per_90)  \\\n",
       "Season was_home                                                             \n",
       "16/17  0                                 2.967418                1.055608   \n",
       "       1                                 2.834444                0.810511   \n",
       "17/18  0                                 2.916963                1.008426   \n",
       "       1                                 2.884002                0.877732   \n",
       "18/19  0                                 2.333848                1.114437   \n",
       "       1                                 2.765093                0.926947   \n",
       "\n",
       "                 winning_goals_(per_90)  tackles_(per_90)  red_cards_(per_90)  \\\n",
       "Season was_home                                                                 \n",
       "16/17  0                       0.149387          0.468990            0.007550   \n",
       "       1                       0.107919          0.416053            0.007753   \n",
       "17/18  0                       0.114423          0.481226            0.003471   \n",
       "       1                       0.085211          0.590533            0.005589   \n",
       "18/19  0                       0.145519          0.347063            0.010611   \n",
       "       1                       0.117483          0.310019            0.003092   \n",
       "\n",
       "                 yellow_cards_(per_90)  \n",
       "Season was_home                         \n",
       "16/17  0                      0.146328  \n",
       "       1                      0.158740  \n",
       "17/18  0                      0.131157  \n",
       "       1                      0.142854  \n",
       "18/19  0                      0.108287  \n",
       "       1                      0.126076  "
      ]
     },
     "execution_count": 16,
     "metadata": {},
     "output_type": "execute_result"
    }
   ],
   "source": [
    "#Grouping the data by seasons and home/away\n",
    "rs = SD.groupby(['Season', 'was_home']).mean()\n",
    "rs"
   ]
  },
  {
   "cell_type": "code",
   "execution_count": 17,
   "metadata": {
    "scrolled": false
   },
   "outputs": [
    {
     "data": {
      "image/png": "[encoded data removed]",
      "text/plain": [
       "<Figure size 576x648 with 1 Axes>"
      ]
     },
     "metadata": {
      "needs_background": "light"
     },
     "output_type": "display_data"
    }
   ],
   "source": [
    "#Barchart for Average goals scored by strikers home/away\n",
    "labels = ['16/17','17/18', '18/19']\n",
    "home = [rs['goals_scored_(per_90)'][0].round(2), rs['goals_scored_(per_90)'][2].round(2), rs['goals_scored_(per_90)'][4].round(2)]\n",
    "away = [rs['goals_scored_(per_90)'][1].round(2), rs['goals_scored_(per_90)'][3].round(2), rs['goals_scored_(per_90)'][5].round(2)]\n",
    "\n",
    "\n",
    "x = np.arange(len(labels))  # the label locations\n",
    "width = 0.35  # the width of the bars\n",
    "\n",
    "fig, ax = plt.subplots(figsize=(8,9))\n",
    "\n",
    "rects1 = ax.bar(x - width/2, home, width, label='Home')\n",
    "rects2 = ax.bar(x + width/2, away, width, label='Away')\n",
    "\n",
    "# Add some text for labels, title and custom x-axis tick labels, etc.\n",
    "ax.set_ylabel('Average goals scored (per 90)')\n",
    "ax.set_title('Average Home/Away goals scored each season by Strikers')\n",
    "ax.set_xticks(x)\n",
    "ax.set_xticklabels(labels)\n",
    "ax.legend()\n",
    "\n",
    "def autolabel(rects):\n",
    "    \"\"\"Attach a text label above each bar in *rects*, displaying its height.\"\"\"\n",
    "    for rect in rects:\n",
    "        height = rect.get_height()\n",
    "        ax.annotate('{}'.format(height),\n",
    "                    xy=(rect.get_x() + rect.get_width() / 2, height),\n",
    "                    xytext=(0, 3),  # 3 points vertical offset\n",
    "                    textcoords=\"offset points\",\n",
    "                    ha='center', va='bottom')\n",
    "\n",
    "\n",
    "autolabel(rects1)\n",
    "autolabel(rects2)\n",
    "\n",
    "fig.tight_layout()\n"
   ]
  },
  {
   "cell_type": "code",
   "execution_count": 18,
   "metadata": {},
   "outputs": [
    {
     "data": {
      "image/png": "[encoded data removed]",
      "text/plain": [
       "<Figure size 576x648 with 1 Axes>"
      ]
     },
     "metadata": {
      "needs_background": "light"
     },
     "output_type": "display_data"
    }
   ],
   "source": [
    "#Barchart for pass completion by strikers home/away\n",
    "\n",
    "pass_completion_percentage = rs['completed_passes_(per_90)']/rs['attempted_passes_(per_90)']*100\n",
    "\n",
    "labels = ['16/17','17/18', '18/19']\n",
    "home = [pass_completion_percentage.round(2)[0], pass_completion_percentage.round(2)[2], pass_completion_percentage.round(2)[4]]\n",
    "away = [pass_completion_percentage.round(2)[1], pass_completion_percentage.round(2)[3], pass_completion_percentage.round(2)[5]]\n",
    "\n",
    "\n",
    "\n",
    "x = np.arange(len(labels))  # the label locations\n",
    "width = 0.35  # the width of the bars\n",
    "\n",
    "fig, ax = plt.subplots(figsize=(8,9))\n",
    "\n",
    "rects1 = ax.bar(x - width/2, home, width, label='Home')\n",
    "rects2 = ax.bar(x + width/2, away, width, label='Away')\n",
    "\n",
    "# Add some text for labels, title and custom x-axis tick labels, etc.\n",
    "ax.set_ylabel('Pass completion % (per 90)')\n",
    "ax.set_title('Average pass completion % by Strikers Home/Away')\n",
    "ax.set_xticks(x)\n",
    "ax.set_xticklabels(labels)\n",
    "ax.legend()\n",
    "\n",
    "def autolabel(rects):\n",
    "    \"\"\"Attach a text label above each bar in *rects*, displaying its height.\"\"\"\n",
    "    for rect in rects:\n",
    "        height = rect.get_height()\n",
    "        ax.annotate('{}'.format(height),\n",
    "                    xy=(rect.get_x() + rect.get_width() / 2, height),\n",
    "                    xytext=(0, 3),  # 3 points vertical offset\n",
    "                    textcoords=\"offset points\",\n",
    "                    ha='center', va='bottom')\n",
    "\n",
    "\n",
    "autolabel(rects1)\n",
    "autolabel(rects2)\n",
    "\n",
    "fig.tight_layout()\n",
    "\n"
   ]
  },
  {
   "cell_type": "code",
   "execution_count": 19,
   "metadata": {},
   "outputs": [
    {
     "data": {
      "text/html": [
       "<div>\n",
       "<style scoped>\n",
       "    .dataframe tbody tr th:only-of-type {\n",
       "        vertical-align: middle;\n",
       "    }\n",
       "\n",
       "    .dataframe tbody tr th {\n",
       "        vertical-align: top;\n",
       "    }\n",
       "\n",
       "    .dataframe thead th {\n",
       "        text-align: right;\n",
       "    }\n",
       "</style>\n",
       "<table border=\"1\" class=\"dataframe\">\n",
       "  <thead>\n",
       "    <tr style=\"text-align: right;\">\n",
       "      <th></th>\n",
       "      <th></th>\n",
       "      <th>Red Cards</th>\n",
       "      <th>Yellow Cards</th>\n",
       "    </tr>\n",
       "    <tr>\n",
       "      <th>Season</th>\n",
       "      <th>was_home</th>\n",
       "      <th></th>\n",
       "      <th></th>\n",
       "    </tr>\n",
       "  </thead>\n",
       "  <tbody>\n",
       "    <tr>\n",
       "      <th rowspan=\"2\" valign=\"top\">16/17</th>\n",
       "      <th>0</th>\n",
       "      <td>0.007550</td>\n",
       "      <td>0.146328</td>\n",
       "    </tr>\n",
       "    <tr>\n",
       "      <th>1</th>\n",
       "      <td>0.007753</td>\n",
       "      <td>0.158740</td>\n",
       "    </tr>\n",
       "    <tr>\n",
       "      <th rowspan=\"2\" valign=\"top\">17/18</th>\n",
       "      <th>0</th>\n",
       "      <td>0.003471</td>\n",
       "      <td>0.131157</td>\n",
       "    </tr>\n",
       "    <tr>\n",
       "      <th>1</th>\n",
       "      <td>0.005589</td>\n",
       "      <td>0.142854</td>\n",
       "    </tr>\n",
       "    <tr>\n",
       "      <th rowspan=\"2\" valign=\"top\">18/19</th>\n",
       "      <th>0</th>\n",
       "      <td>0.010611</td>\n",
       "      <td>0.108287</td>\n",
       "    </tr>\n",
       "    <tr>\n",
       "      <th>1</th>\n",
       "      <td>0.003092</td>\n",
       "      <td>0.126076</td>\n",
       "    </tr>\n",
       "  </tbody>\n",
       "</table>\n",
       "</div>"
      ],
      "text/plain": [
       "                 Red Cards  Yellow Cards\n",
       "Season was_home                         \n",
       "16/17  0          0.007550      0.146328\n",
       "       1          0.007753      0.158740\n",
       "17/18  0          0.003471      0.131157\n",
       "       1          0.005589      0.142854\n",
       "18/19  0          0.010611      0.108287\n",
       "       1          0.003092      0.126076"
      ]
     },
     "execution_count": 19,
     "metadata": {},
     "output_type": "execute_result"
    }
   ],
   "source": [
    "#Table for cards by strikers home/away\n",
    "cards = pd.DataFrame({'Red Cards': rs['red_cards_(per_90)'], 'Yellow Cards': rs['yellow_cards_(per_90)']})\n",
    "cards"
   ]
  },
  {
   "cell_type": "code",
   "execution_count": 20,
   "metadata": {
    "scrolled": false
   },
   "outputs": [
    {
     "data": {
      "text/plain": [
       "Text(0.5, 1.0, 'Average number of offsides Home/Away')"
      ]
     },
     "execution_count": 20,
     "metadata": {},
     "output_type": "execute_result"
    },
    {
     "data": {
      "image/png": "[encoded data removed]",
      "text/plain": [
       "<Figure size 432x288 with 1 Axes>"
      ]
     },
     "metadata": {
      "needs_background": "light"
     },
     "output_type": "display_data"
    }
   ],
   "source": [
    "#Creating line graph for offsides of strikers home/away\n",
    "y1 = [rs['offside_(per_90)'].round(2)[0], rs['offside_(per_90)'].round(2)[2], rs['offside_(per_90)'].round(2)[4]]\n",
    "x1 = ['16/17','17/18', '18/19']\n",
    "plt.plot(x1, y1, label = \"Home\")\n",
    "\n",
    "y2 = [rs['offside_(per_90)'].round(2)[1], rs['offside_(per_90)'].round(2)[3], rs['offside_(per_90)'].round(2)[5]]\n",
    "x2 = ['16/17','17/18', '18/19']\n",
    "plt.plot(x2, y2, label = \"Away\")\n",
    "plt.xlabel('Season')\n",
    "plt.ylabel('Offsides (per 90)')\n",
    "plt.legend()\n",
    "plt.title('Average number of offsides Home/Away')"
   ]
  },
  {
   "cell_type": "code",
   "execution_count": 34,
   "metadata": {},
   "outputs": [
    {
     "name": "stdout",
     "output_type": "stream",
     "text": [
      "     was_home  assists_(per_90)  big_chances_created_(per_90)  \\\n",
      "0           1          0.054054                      0.108108   \n",
      "1           0          0.167183                      0.222910   \n",
      "2           1          0.492252                      0.164084   \n",
      "3           0          0.385714                      0.257143   \n",
      "4           1          0.083799                      0.251397   \n",
      "..        ...               ...                           ...   \n",
      "131         0          0.082797                      0.331187   \n",
      "132         1          0.128940                      0.128940   \n",
      "133         0          0.116279                      0.000000   \n",
      "134         1          0.230769                      0.153846   \n",
      "135         0          0.283912                      0.425868   \n",
      "\n",
      "     big_chances_missed_(per_90)  key_passes_(per_90)  offside_(per_90)  \\\n",
      "0                       0.486486             0.540541          0.864865   \n",
      "1                       0.390093             1.226006          1.003096   \n",
      "2                       0.164084             1.148587          0.984503   \n",
      "3                       0.578571             1.092857          0.771429   \n",
      "4                       0.418994             0.670391          0.921788   \n",
      "..                           ...                  ...               ...   \n",
      "131                     0.579577             1.241950          0.579577   \n",
      "132                     0.128940             1.224928          0.515759   \n",
      "133                     0.290698             1.279070          0.639535   \n",
      "134                     0.230769             1.384615          1.230769   \n",
      "135                     1.206625             2.058360          1.419558   \n",
      "\n",
      "     target_missed_(per_90)  winning_goals_(per_90)  \n",
      "0                  1.297297                0.054054  \n",
      "1                  1.839009                0.222910  \n",
      "2                  1.066545                0.246126  \n",
      "3                  1.221429                0.385714  \n",
      "4                  0.586592                0.083799  \n",
      "..                      ...                     ...  \n",
      "131                2.483901                0.165593  \n",
      "132                0.515759                0.064470  \n",
      "133                0.523256                0.000000  \n",
      "134                0.846154                0.307692  \n",
      "135                1.916404                0.141956  \n",
      "\n",
      "[136 rows x 8 columns]\n"
     ]
    }
   ],
   "source": [
    "#Creating the training and test data\n",
    "train = SD.drop(['player_name', 'goals_scored_(per_90)', 'Season', 'attempted_passes_(per_90)', 'completed_passes_(per_90)', 'tackled/lost_possession_(per_90)', 'tackles_(per_90)',\n",
    " 'red_cards_(per_90)', 'yellow_cards_(per_90)', 'dribbles_(per_90)'], axis=1)\n",
    "test = SD['goals_scored_(per_90)']\n",
    "print(train)"
   ]
  },
  {
   "cell_type": "code",
   "execution_count": 35,
   "metadata": {},
   "outputs": [],
   "source": [
    "#Spliting the dataset\n",
    "from sklearn.model_selection import train_test_split\n",
    "X_train, X_test, y_train, y_test = train_test_split(train, test, test_size = 0.2, random_state=2)"
   ]
  },
  {
   "cell_type": "code",
   "execution_count": 36,
   "metadata": {},
   "outputs": [
    {
     "name": "stdout",
     "output_type": "stream",
     "text": [
      "Mean Absolute Error: 0.12149785332811694\n",
      "Mean Squared Error: 0.022518242447588127\n",
      "Root Mean Squared Error: 0.15006079583818063\n",
      "Model Score: 0.7017468970345828\n"
     ]
    }
   ],
   "source": [
    "#Creating the linear Regression model\n",
    "from sklearn.linear_model import LinearRegression\n",
    "from sklearn import metrics\n",
    "regr = LinearRegression()\n",
    "\n",
    "regr.fit(X_train, y_train)\n",
    "y_pred = regr.predict(X_test)\n",
    "         \n",
    "\n",
    "         \n",
    "print('Mean Absolute Error:', metrics.mean_absolute_error(y_test, y_pred))  \n",
    "print('Mean Squared Error:', metrics.mean_squared_error(y_test, y_pred))  \n",
    "print('Root Mean Squared Error:', np.sqrt(metrics.mean_squared_error(y_test, y_pred)))\n",
    "print('Model Score:', regr.score(X_test, y_test))\n",
    "\n",
    "LRMAE = metrics.mean_absolute_error(y_test, y_pred)\n",
    "LRMSE = metrics.mean_squared_error(y_test, y_pred)\n",
    "LRRMSE = np.sqrt(metrics.mean_squared_error(y_test, y_pred))\n",
    "LRS= regr.score(X_test, y_test)\n",
    "\n",
    "         \n",
    "         "
   ]
  },
  {
   "cell_type": "code",
   "execution_count": 37,
   "metadata": {},
   "outputs": [
    {
     "name": "stdout",
     "output_type": "stream",
     "text": [
      "Mean Absolute Error: 0.1602919431785714\n",
      "Mean Squared Error: 0.0437198384008721\n",
      "Root Mean Squared Error: 0.2090928941902907\n",
      "Model Score: 0.42093271734875803\n"
     ]
    }
   ],
   "source": [
    "#Creating the Decision Tree model\n",
    "from sklearn import metrics\n",
    "from sklearn.tree import DecisionTreeRegressor\n",
    "from sklearn.metrics import mean_squared_error as MSE\n",
    "\n",
    "regressor = DecisionTreeRegressor(random_state=2)\n",
    "regressor.fit(X_train, y_train)\n",
    "\n",
    "y_pred= regressor.predict(X_test)\n",
    "\n",
    "print('Mean Absolute Error:', metrics.mean_absolute_error(y_test, y_pred))  \n",
    "print('Mean Squared Error:', metrics.mean_squared_error(y_test, y_pred))  \n",
    "print('Root Mean Squared Error:', np.sqrt(metrics.mean_squared_error(y_test, y_pred)))\n",
    "print('Model Score:', regressor.score(X_test, y_test))\n",
    "\n",
    "DTMAE = metrics.mean_absolute_error(y_test, y_pred)\n",
    "DTMSE = metrics.mean_squared_error(y_test, y_pred)\n",
    "DTRMSE = np.sqrt(metrics.mean_squared_error(y_test, y_pred))\n",
    "DTS = regressor.score(X_test, y_test)"
   ]
  },
  {
   "cell_type": "code",
   "execution_count": 38,
   "metadata": {
    "scrolled": false
   },
   "outputs": [
    {
     "name": "stdout",
     "output_type": "stream",
     "text": [
      "Mean Absolute Error: 0.13774367965889886\n",
      "Mean Squared Error: 0.031630570846332286\n",
      "Root Mean Squared Error: 0.17784985478299464\n",
      "Model Score: 0.5810545194437894\n"
     ]
    }
   ],
   "source": [
    "#Creating the Random Forest model\n",
    "from sklearn.ensemble import RandomForestRegressor\n",
    "from sklearn.metrics import r2_score\n",
    "model = RandomForestRegressor(n_estimators=100, random_state=2)\n",
    "model.fit(X_train, y_train)\n",
    "\n",
    "y_pred = model.predict(X_test)\n",
    "\n",
    "print('Mean Absolute Error:', metrics.mean_absolute_error(y_test, y_pred))  \n",
    "print('Mean Squared Error:', metrics.mean_squared_error(y_test, y_pred))  \n",
    "print('Root Mean Squared Error:', np.sqrt(metrics.mean_squared_error(y_test, y_pred)))\n",
    "print('Model Score:', model.score(X_test, y_test))\n",
    "\n",
    "\n",
    "RFMAE = metrics.mean_absolute_error(y_test, y_pred)\n",
    "RFMSE = metrics.mean_squared_error(y_test, y_pred)\n",
    "RFRMSE = np.sqrt(metrics.mean_squared_error(y_test, y_pred))\n",
    "RFS = model.score(X_test, y_test)"
   ]
  },
  {
   "cell_type": "code",
   "execution_count": 42,
   "metadata": {},
   "outputs": [
    {
     "data": {
      "application/vnd.plotly.v1+json": {
       "config": {
        "plotlyServerURL": "https://plot.ly"
       },
       "data": [
        {
         "marker": {
          "color": "Pink"
         },
         "type": "bar",
         "x": [
          "was_home",
          "assists_(per_90)",
          "big_chances_created_(per_90)",
          "big_chances_missed_(per_90)",
          "key_passes_(per_90)",
          "offside_(per_90)",
          "target_missed_(per_90)",
          "winning_goals_(per_90)"
         ],
         "y": [
          0.009925702761241186,
          0.05912282514125994,
          0.0429093870838976,
          0.06768991075470283,
          0.05741306732952205,
          0.08338783904276745,
          0.05283411720330018,
          0.6267171506833088
         ]
        }
       ],
       "layout": {
        "template": {
         "data": {
          "bar": [
           {
            "error_x": {
             "color": "#2a3f5f"
            },
            "error_y": {
             "color": "#2a3f5f"
            },
            "marker": {
             "line": {
              "color": "#E5ECF6",
              "width": 0.5
             }
            },
            "type": "bar"
           }
          ],
          "barpolar": [
           {
            "marker": {
             "line": {
              "color": "#E5ECF6",
              "width": 0.5
             }
            },
            "type": "barpolar"
           }
          ],
          "carpet": [
           {
            "aaxis": {
             "endlinecolor": "#2a3f5f",
             "gridcolor": "white",
             "linecolor": "white",
             "minorgridcolor": "white",
             "startlinecolor": "#2a3f5f"
            },
            "baxis": {
             "endlinecolor": "#2a3f5f",
             "gridcolor": "white",
             "linecolor": "white",
             "minorgridcolor": "white",
             "startlinecolor": "#2a3f5f"
            },
            "type": "carpet"
           }
          ],
          "choropleth": [
           {
            "colorbar": {
             "outlinewidth": 0,
             "ticks": ""
            },
            "type": "choropleth"
           }
          ],
          "contour": [
           {
            "colorbar": {
             "outlinewidth": 0,
             "ticks": ""
            },
            "colorscale": [
             [
              0,
              "#0d0887"
             ],
             [
              0.1111111111111111,
              "#46039f"
             ],
             [
              0.2222222222222222,
              "#7201a8"
             ],
             [
              0.3333333333333333,
              "#9c179e"
             ],
             [
              0.4444444444444444,
              "#bd3786"
             ],
             [
              0.5555555555555556,
              "#d8576b"
             ],
             [
              0.6666666666666666,
              "#ed7953"
             ],
             [
              0.7777777777777778,
              "#fb9f3a"
             ],
             [
              0.8888888888888888,
              "#fdca26"
             ],
             [
              1,
              "#f0f921"
             ]
            ],
            "type": "contour"
           }
          ],
          "contourcarpet": [
           {
            "colorbar": {
             "outlinewidth": 0,
             "ticks": ""
            },
            "type": "contourcarpet"
           }
          ],
          "heatmap": [
           {
            "colorbar": {
             "outlinewidth": 0,
             "ticks": ""
            },
            "colorscale": [
             [
              0,
              "#0d0887"
             ],
             [
              0.1111111111111111,
              "#46039f"
             ],
             [
              0.2222222222222222,
              "#7201a8"
             ],
             [
              0.3333333333333333,
              "#9c179e"
             ],
             [
              0.4444444444444444,
              "#bd3786"
             ],
             [
              0.5555555555555556,
              "#d8576b"
             ],
             [
              0.6666666666666666,
              "#ed7953"
             ],
             [
              0.7777777777777778,
              "#fb9f3a"
             ],
             [
              0.8888888888888888,
              "#fdca26"
             ],
             [
              1,
              "#f0f921"
             ]
            ],
            "type": "heatmap"
           }
          ],
          "heatmapgl": [
           {
            "colorbar": {
             "outlinewidth": 0,
             "ticks": ""
            },
            "colorscale": [
             [
              0,
              "#0d0887"
             ],
             [
              0.1111111111111111,
              "#46039f"
             ],
             [
              0.2222222222222222,
              "#7201a8"
             ],
             [
              0.3333333333333333,
              "#9c179e"
             ],
             [
              0.4444444444444444,
              "#bd3786"
             ],
             [
              0.5555555555555556,
              "#d8576b"
             ],
             [
              0.6666666666666666,
              "#ed7953"
             ],
             [
              0.7777777777777778,
              "#fb9f3a"
             ],
             [
              0.8888888888888888,
              "#fdca26"
             ],
             [
              1,
              "#f0f921"
             ]
            ],
            "type": "heatmapgl"
           }
          ],
          "histogram": [
           {
            "marker": {
             "colorbar": {
              "outlinewidth": 0,
              "ticks": ""
             }
            },
            "type": "histogram"
           }
          ],
          "histogram2d": [
           {
            "colorbar": {
             "outlinewidth": 0,
             "ticks": ""
            },
            "colorscale": [
             [
              0,
              "#0d0887"
             ],
             [
              0.1111111111111111,
              "#46039f"
             ],
             [
              0.2222222222222222,
              "#7201a8"
             ],
             [
              0.3333333333333333,
              "#9c179e"
             ],
             [
              0.4444444444444444,
              "#bd3786"
             ],
             [
              0.5555555555555556,
              "#d8576b"
             ],
             [
              0.6666666666666666,
              "#ed7953"
             ],
             [
              0.7777777777777778,
              "#fb9f3a"
             ],
             [
              0.8888888888888888,
              "#fdca26"
             ],
             [
              1,
              "#f0f921"
             ]
            ],
            "type": "histogram2d"
           }
          ],
          "histogram2dcontour": [
           {
            "colorbar": {
             "outlinewidth": 0,
             "ticks": ""
            },
            "colorscale": [
             [
              0,
              "#0d0887"
             ],
             [
              0.1111111111111111,
              "#46039f"
             ],
             [
              0.2222222222222222,
              "#7201a8"
             ],
             [
              0.3333333333333333,
              "#9c179e"
             ],
             [
              0.4444444444444444,
              "#bd3786"
             ],
             [
              0.5555555555555556,
              "#d8576b"
             ],
             [
              0.6666666666666666,
              "#ed7953"
             ],
             [
              0.7777777777777778,
              "#fb9f3a"
             ],
             [
              0.8888888888888888,
              "#fdca26"
             ],
             [
              1,
              "#f0f921"
             ]
            ],
            "type": "histogram2dcontour"
           }
          ],
          "mesh3d": [
           {
            "colorbar": {
             "outlinewidth": 0,
             "ticks": ""
            },
            "type": "mesh3d"
           }
          ],
          "parcoords": [
           {
            "line": {
             "colorbar": {
              "outlinewidth": 0,
              "ticks": ""
             }
            },
            "type": "parcoords"
           }
          ],
          "pie": [
           {
            "automargin": true,
            "type": "pie"
           }
          ],
          "scatter": [
           {
            "marker": {
             "colorbar": {
              "outlinewidth": 0,
              "ticks": ""
             }
            },
            "type": "scatter"
           }
          ],
          "scatter3d": [
           {
            "line": {
             "colorbar": {
              "outlinewidth": 0,
              "ticks": ""
             }
            },
            "marker": {
             "colorbar": {
              "outlinewidth": 0,
              "ticks": ""
             }
            },
            "type": "scatter3d"
           }
          ],
          "scattercarpet": [
           {
            "marker": {
             "colorbar": {
              "outlinewidth": 0,
              "ticks": ""
             }
            },
            "type": "scattercarpet"
           }
          ],
          "scattergeo": [
           {
            "marker": {
             "colorbar": {
              "outlinewidth": 0,
              "ticks": ""
             }
            },
            "type": "scattergeo"
           }
          ],
          "scattergl": [
           {
            "marker": {
             "colorbar": {
              "outlinewidth": 0,
              "ticks": ""
             }
            },
            "type": "scattergl"
           }
          ],
          "scattermapbox": [
           {
            "marker": {
             "colorbar": {
              "outlinewidth": 0,
              "ticks": ""
             }
            },
            "type": "scattermapbox"
           }
          ],
          "scatterpolar": [
           {
            "marker": {
             "colorbar": {
              "outlinewidth": 0,
              "ticks": ""
             }
            },
            "type": "scatterpolar"
           }
          ],
          "scatterpolargl": [
           {
            "marker": {
             "colorbar": {
              "outlinewidth": 0,
              "ticks": ""
             }
            },
            "type": "scatterpolargl"
           }
          ],
          "scatterternary": [
           {
            "marker": {
             "colorbar": {
              "outlinewidth": 0,
              "ticks": ""
             }
            },
            "type": "scatterternary"
           }
          ],
          "surface": [
           {
            "colorbar": {
             "outlinewidth": 0,
             "ticks": ""
            },
            "colorscale": [
             [
              0,
              "#0d0887"
             ],
             [
              0.1111111111111111,
              "#46039f"
             ],
             [
              0.2222222222222222,
              "#7201a8"
             ],
             [
              0.3333333333333333,
              "#9c179e"
             ],
             [
              0.4444444444444444,
              "#bd3786"
             ],
             [
              0.5555555555555556,
              "#d8576b"
             ],
             [
              0.6666666666666666,
              "#ed7953"
             ],
             [
              0.7777777777777778,
              "#fb9f3a"
             ],
             [
              0.8888888888888888,
              "#fdca26"
             ],
             [
              1,
              "#f0f921"
             ]
            ],
            "type": "surface"
           }
          ],
          "table": [
           {
            "cells": {
             "fill": {
              "color": "#EBF0F8"
             },
             "line": {
              "color": "white"
             }
            },
            "header": {
             "fill": {
              "color": "#C8D4E3"
             },
             "line": {
              "color": "white"
             }
            },
            "type": "table"
           }
          ]
         },
         "layout": {
          "annotationdefaults": {
           "arrowcolor": "#2a3f5f",
           "arrowhead": 0,
           "arrowwidth": 1
          },
          "coloraxis": {
           "colorbar": {
            "outlinewidth": 0,
            "ticks": ""
           }
          },
          "colorscale": {
           "diverging": [
            [
             0,
             "#8e0152"
            ],
            [
             0.1,
             "#c51b7d"
            ],
            [
             0.2,
             "#de77ae"
            ],
            [
             0.3,
             "#f1b6da"
            ],
            [
             0.4,
             "#fde0ef"
            ],
            [
             0.5,
             "#f7f7f7"
            ],
            [
             0.6,
             "#e6f5d0"
            ],
            [
             0.7,
             "#b8e186"
            ],
            [
             0.8,
             "#7fbc41"
            ],
            [
             0.9,
             "#4d9221"
            ],
            [
             1,
             "#276419"
            ]
           ],
           "sequential": [
            [
             0,
             "#0d0887"
            ],
            [
             0.1111111111111111,
             "#46039f"
            ],
            [
             0.2222222222222222,
             "#7201a8"
            ],
            [
             0.3333333333333333,
             "#9c179e"
            ],
            [
             0.4444444444444444,
             "#bd3786"
            ],
            [
             0.5555555555555556,
             "#d8576b"
            ],
            [
             0.6666666666666666,
             "#ed7953"
            ],
            [
             0.7777777777777778,
             "#fb9f3a"
            ],
            [
             0.8888888888888888,
             "#fdca26"
            ],
            [
             1,
             "#f0f921"
            ]
           ],
           "sequentialminus": [
            [
             0,
             "#0d0887"
            ],
            [
             0.1111111111111111,
             "#46039f"
            ],
            [
             0.2222222222222222,
             "#7201a8"
            ],
            [
             0.3333333333333333,
             "#9c179e"
            ],
            [
             0.4444444444444444,
             "#bd3786"
            ],
            [
             0.5555555555555556,
             "#d8576b"
            ],
            [
             0.6666666666666666,
             "#ed7953"
            ],
            [
             0.7777777777777778,
             "#fb9f3a"
            ],
            [
             0.8888888888888888,
             "#fdca26"
            ],
            [
             1,
             "#f0f921"
            ]
           ]
          },
          "colorway": [
           "#636efa",
           "#EF553B",
           "#00cc96",
           "#ab63fa",
           "#FFA15A",
           "#19d3f3",
           "#FF6692",
           "#B6E880",
           "#FF97FF",
           "#FECB52"
          ],
          "font": {
           "color": "#2a3f5f"
          },
          "geo": {
           "bgcolor": "white",
           "lakecolor": "white",
           "landcolor": "#E5ECF6",
           "showlakes": true,
           "showland": true,
           "subunitcolor": "white"
          },
          "hoverlabel": {
           "align": "left"
          },
          "hovermode": "closest",
          "mapbox": {
           "style": "light"
          },
          "paper_bgcolor": "white",
          "plot_bgcolor": "#E5ECF6",
          "polar": {
           "angularaxis": {
            "gridcolor": "white",
            "linecolor": "white",
            "ticks": ""
           },
           "bgcolor": "#E5ECF6",
           "radialaxis": {
            "gridcolor": "white",
            "linecolor": "white",
            "ticks": ""
           }
          },
          "scene": {
           "xaxis": {
            "backgroundcolor": "#E5ECF6",
            "gridcolor": "white",
            "gridwidth": 2,
            "linecolor": "white",
            "showbackground": true,
            "ticks": "",
            "zerolinecolor": "white"
           },
           "yaxis": {
            "backgroundcolor": "#E5ECF6",
            "gridcolor": "white",
            "gridwidth": 2,
            "linecolor": "white",
            "showbackground": true,
            "ticks": "",
            "zerolinecolor": "white"
           },
           "zaxis": {
            "backgroundcolor": "#E5ECF6",
            "gridcolor": "white",
            "gridwidth": 2,
            "linecolor": "white",
            "showbackground": true,
            "ticks": "",
            "zerolinecolor": "white"
           }
          },
          "shapedefaults": {
           "line": {
            "color": "#2a3f5f"
           }
          },
          "ternary": {
           "aaxis": {
            "gridcolor": "white",
            "linecolor": "white",
            "ticks": ""
           },
           "baxis": {
            "gridcolor": "white",
            "linecolor": "white",
            "ticks": ""
           },
           "bgcolor": "#E5ECF6",
           "caxis": {
            "gridcolor": "white",
            "linecolor": "white",
            "ticks": ""
           }
          },
          "title": {
           "x": 0.05
          },
          "xaxis": {
           "automargin": true,
           "gridcolor": "white",
           "linecolor": "white",
           "ticks": "",
           "title": {
            "standoff": 15
           },
           "zerolinecolor": "white",
           "zerolinewidth": 2
          },
          "yaxis": {
           "automargin": true,
           "gridcolor": "white",
           "linecolor": "white",
           "ticks": "",
           "title": {
            "standoff": 15
           },
           "zerolinecolor": "white",
           "zerolinewidth": 2
          }
         }
        },
        "title": {
         "text": "Feature Importance"
        },
        "xaxis": {
         "tickfont": {
          "size": 14
         },
         "title": {
          "font": {
           "size": 16
          },
          "text": "Features"
         }
        },
        "yaxis": {
         "tickfont": {
          "size": 14
         },
         "title": {
          "font": {
           "size": 16
          },
          "text": "Random Forest Feature Importance"
         }
        }
       }
      },
      "text/html": [
       "<div>                            <div id=\"6813e7e4-8a83-4587-9b82-47f51d011432\" class=\"plotly-graph-div\" style=\"height:525px; width:100%;\"></div>            <script type=\"text/javascript\">                require([\"plotly\"], function(Plotly) {                    window.PLOTLYENV=window.PLOTLYENV || {};                                    if (document.getElementById(\"6813e7e4-8a83-4587-9b82-47f51d011432\")) {                    Plotly.newPlot(                        \"6813e7e4-8a83-4587-9b82-47f51d011432\",                        [{\"marker\": {\"color\": \"Pink\"}, \"type\": \"bar\", \"x\": [\"was_home\", \"assists_(per_90)\", \"big_chances_created_(per_90)\", \"big_chances_missed_(per_90)\", \"key_passes_(per_90)\", \"offside_(per_90)\", \"target_missed_(per_90)\", \"winning_goals_(per_90)\"], \"y\": [0.009925702761241186, 0.05912282514125994, 0.0429093870838976, 0.06768991075470283, 0.05741306732952205, 0.08338783904276745, 0.05283411720330018, 0.6267171506833088]}],                        {\"template\": {\"data\": {\"bar\": [{\"error_x\": {\"color\": \"#2a3f5f\"}, \"error_y\": {\"color\": \"#2a3f5f\"}, \"marker\": {\"line\": {\"color\": \"#E5ECF6\", \"width\": 0.5}}, \"type\": \"bar\"}], \"barpolar\": [{\"marker\": {\"line\": {\"color\": \"#E5ECF6\", \"width\": 0.5}}, \"type\": \"barpolar\"}], \"carpet\": [{\"aaxis\": {\"endlinecolor\": \"#2a3f5f\", \"gridcolor\": \"white\", \"linecolor\": \"white\", \"minorgridcolor\": \"white\", \"startlinecolor\": \"#2a3f5f\"}, \"baxis\": {\"endlinecolor\": \"#2a3f5f\", \"gridcolor\": \"white\", \"linecolor\": \"white\", \"minorgridcolor\": \"white\", \"startlinecolor\": \"#2a3f5f\"}, \"type\": \"carpet\"}], \"choropleth\": [{\"colorbar\": {\"outlinewidth\": 0, \"ticks\": \"\"}, \"type\": \"choropleth\"}], \"contour\": [{\"colorbar\": {\"outlinewidth\": 0, \"ticks\": \"\"}, \"colorscale\": [[0.0, \"#0d0887\"], [0.1111111111111111, \"#46039f\"], [0.2222222222222222, \"#7201a8\"], [0.3333333333333333, \"#9c179e\"], [0.4444444444444444, \"#bd3786\"], [0.5555555555555556, \"#d8576b\"], [0.6666666666666666, \"#ed7953\"], [0.7777777777777778, \"#fb9f3a\"], [0.8888888888888888, \"#fdca26\"], [1.0, \"#f0f921\"]], \"type\": \"contour\"}], \"contourcarpet\": [{\"colorbar\": {\"outlinewidth\": 0, \"ticks\": \"\"}, \"type\": \"contourcarpet\"}], \"heatmap\": [{\"colorbar\": {\"outlinewidth\": 0, \"ticks\": \"\"}, \"colorscale\": [[0.0, \"#0d0887\"], [0.1111111111111111, \"#46039f\"], [0.2222222222222222, \"#7201a8\"], [0.3333333333333333, \"#9c179e\"], [0.4444444444444444, \"#bd3786\"], [0.5555555555555556, \"#d8576b\"], [0.6666666666666666, \"#ed7953\"], [0.7777777777777778, \"#fb9f3a\"], [0.8888888888888888, \"#fdca26\"], [1.0, \"#f0f921\"]], \"type\": \"heatmap\"}], \"heatmapgl\": [{\"colorbar\": {\"outlinewidth\": 0, \"ticks\": \"\"}, \"colorscale\": [[0.0, \"#0d0887\"], [0.1111111111111111, \"#46039f\"], [0.2222222222222222, \"#7201a8\"], [0.3333333333333333, \"#9c179e\"], [0.4444444444444444, \"#bd3786\"], [0.5555555555555556, \"#d8576b\"], [0.6666666666666666, \"#ed7953\"], [0.7777777777777778, \"#fb9f3a\"], [0.8888888888888888, \"#fdca26\"], [1.0, \"#f0f921\"]], \"type\": \"heatmapgl\"}], \"histogram\": [{\"marker\": {\"colorbar\": {\"outlinewidth\": 0, \"ticks\": \"\"}}, \"type\": \"histogram\"}], \"histogram2d\": [{\"colorbar\": {\"outlinewidth\": 0, \"ticks\": \"\"}, \"colorscale\": [[0.0, \"#0d0887\"], [0.1111111111111111, \"#46039f\"], [0.2222222222222222, \"#7201a8\"], [0.3333333333333333, \"#9c179e\"], [0.4444444444444444, \"#bd3786\"], [0.5555555555555556, \"#d8576b\"], [0.6666666666666666, \"#ed7953\"], [0.7777777777777778, \"#fb9f3a\"], [0.8888888888888888, \"#fdca26\"], [1.0, \"#f0f921\"]], \"type\": \"histogram2d\"}], \"histogram2dcontour\": [{\"colorbar\": {\"outlinewidth\": 0, \"ticks\": \"\"}, \"colorscale\": [[0.0, \"#0d0887\"], [0.1111111111111111, \"#46039f\"], [0.2222222222222222, \"#7201a8\"], [0.3333333333333333, \"#9c179e\"], [0.4444444444444444, \"#bd3786\"], [0.5555555555555556, \"#d8576b\"], [0.6666666666666666, \"#ed7953\"], [0.7777777777777778, \"#fb9f3a\"], [0.8888888888888888, \"#fdca26\"], [1.0, \"#f0f921\"]], \"type\": \"histogram2dcontour\"}], \"mesh3d\": [{\"colorbar\": {\"outlinewidth\": 0, \"ticks\": \"\"}, \"type\": \"mesh3d\"}], \"parcoords\": [{\"line\": {\"colorbar\": {\"outlinewidth\": 0, \"ticks\": \"\"}}, \"type\": \"parcoords\"}], \"pie\": [{\"automargin\": true, \"type\": \"pie\"}], \"scatter\": [{\"marker\": {\"colorbar\": {\"outlinewidth\": 0, \"ticks\": \"\"}}, \"type\": \"scatter\"}], \"scatter3d\": [{\"line\": {\"colorbar\": {\"outlinewidth\": 0, \"ticks\": \"\"}}, \"marker\": {\"colorbar\": {\"outlinewidth\": 0, \"ticks\": \"\"}}, \"type\": \"scatter3d\"}], \"scattercarpet\": [{\"marker\": {\"colorbar\": {\"outlinewidth\": 0, \"ticks\": \"\"}}, \"type\": \"scattercarpet\"}], \"scattergeo\": [{\"marker\": {\"colorbar\": {\"outlinewidth\": 0, \"ticks\": \"\"}}, \"type\": \"scattergeo\"}], \"scattergl\": [{\"marker\": {\"colorbar\": {\"outlinewidth\": 0, \"ticks\": \"\"}}, \"type\": \"scattergl\"}], \"scattermapbox\": [{\"marker\": {\"colorbar\": {\"outlinewidth\": 0, \"ticks\": \"\"}}, \"type\": \"scattermapbox\"}], \"scatterpolar\": [{\"marker\": {\"colorbar\": {\"outlinewidth\": 0, \"ticks\": \"\"}}, \"type\": \"scatterpolar\"}], \"scatterpolargl\": [{\"marker\": {\"colorbar\": {\"outlinewidth\": 0, \"ticks\": \"\"}}, \"type\": \"scatterpolargl\"}], \"scatterternary\": [{\"marker\": {\"colorbar\": {\"outlinewidth\": 0, \"ticks\": \"\"}}, \"type\": \"scatterternary\"}], \"surface\": [{\"colorbar\": {\"outlinewidth\": 0, \"ticks\": \"\"}, \"colorscale\": [[0.0, \"#0d0887\"], [0.1111111111111111, \"#46039f\"], [0.2222222222222222, \"#7201a8\"], [0.3333333333333333, \"#9c179e\"], [0.4444444444444444, \"#bd3786\"], [0.5555555555555556, \"#d8576b\"], [0.6666666666666666, \"#ed7953\"], [0.7777777777777778, \"#fb9f3a\"], [0.8888888888888888, \"#fdca26\"], [1.0, \"#f0f921\"]], \"type\": \"surface\"}], \"table\": [{\"cells\": {\"fill\": {\"color\": \"#EBF0F8\"}, \"line\": {\"color\": \"white\"}}, \"header\": {\"fill\": {\"color\": \"#C8D4E3\"}, \"line\": {\"color\": \"white\"}}, \"type\": \"table\"}]}, \"layout\": {\"annotationdefaults\": {\"arrowcolor\": \"#2a3f5f\", \"arrowhead\": 0, \"arrowwidth\": 1}, \"coloraxis\": {\"colorbar\": {\"outlinewidth\": 0, \"ticks\": \"\"}}, \"colorscale\": {\"diverging\": [[0, \"#8e0152\"], [0.1, \"#c51b7d\"], [0.2, \"#de77ae\"], [0.3, \"#f1b6da\"], [0.4, \"#fde0ef\"], [0.5, \"#f7f7f7\"], [0.6, \"#e6f5d0\"], [0.7, \"#b8e186\"], [0.8, \"#7fbc41\"], [0.9, \"#4d9221\"], [1, \"#276419\"]], \"sequential\": [[0.0, \"#0d0887\"], [0.1111111111111111, \"#46039f\"], [0.2222222222222222, \"#7201a8\"], [0.3333333333333333, \"#9c179e\"], [0.4444444444444444, \"#bd3786\"], [0.5555555555555556, \"#d8576b\"], [0.6666666666666666, \"#ed7953\"], [0.7777777777777778, \"#fb9f3a\"], [0.8888888888888888, \"#fdca26\"], [1.0, \"#f0f921\"]], \"sequentialminus\": [[0.0, \"#0d0887\"], [0.1111111111111111, \"#46039f\"], [0.2222222222222222, \"#7201a8\"], [0.3333333333333333, \"#9c179e\"], [0.4444444444444444, \"#bd3786\"], [0.5555555555555556, \"#d8576b\"], [0.6666666666666666, \"#ed7953\"], [0.7777777777777778, \"#fb9f3a\"], [0.8888888888888888, \"#fdca26\"], [1.0, \"#f0f921\"]]}, \"colorway\": [\"#636efa\", \"#EF553B\", \"#00cc96\", \"#ab63fa\", \"#FFA15A\", \"#19d3f3\", \"#FF6692\", \"#B6E880\", \"#FF97FF\", \"#FECB52\"], \"font\": {\"color\": \"#2a3f5f\"}, \"geo\": {\"bgcolor\": \"white\", \"lakecolor\": \"white\", \"landcolor\": \"#E5ECF6\", \"showlakes\": true, \"showland\": true, \"subunitcolor\": \"white\"}, \"hoverlabel\": {\"align\": \"left\"}, \"hovermode\": \"closest\", \"mapbox\": {\"style\": \"light\"}, \"paper_bgcolor\": \"white\", \"plot_bgcolor\": \"#E5ECF6\", \"polar\": {\"angularaxis\": {\"gridcolor\": \"white\", \"linecolor\": \"white\", \"ticks\": \"\"}, \"bgcolor\": \"#E5ECF6\", \"radialaxis\": {\"gridcolor\": \"white\", \"linecolor\": \"white\", \"ticks\": \"\"}}, \"scene\": {\"xaxis\": {\"backgroundcolor\": \"#E5ECF6\", \"gridcolor\": \"white\", \"gridwidth\": 2, \"linecolor\": \"white\", \"showbackground\": true, \"ticks\": \"\", \"zerolinecolor\": \"white\"}, \"yaxis\": {\"backgroundcolor\": \"#E5ECF6\", \"gridcolor\": \"white\", \"gridwidth\": 2, \"linecolor\": \"white\", \"showbackground\": true, \"ticks\": \"\", \"zerolinecolor\": \"white\"}, \"zaxis\": {\"backgroundcolor\": \"#E5ECF6\", \"gridcolor\": \"white\", \"gridwidth\": 2, \"linecolor\": \"white\", \"showbackground\": true, \"ticks\": \"\", \"zerolinecolor\": \"white\"}}, \"shapedefaults\": {\"line\": {\"color\": \"#2a3f5f\"}}, \"ternary\": {\"aaxis\": {\"gridcolor\": \"white\", \"linecolor\": \"white\", \"ticks\": \"\"}, \"baxis\": {\"gridcolor\": \"white\", \"linecolor\": \"white\", \"ticks\": \"\"}, \"bgcolor\": \"#E5ECF6\", \"caxis\": {\"gridcolor\": \"white\", \"linecolor\": \"white\", \"ticks\": \"\"}}, \"title\": {\"x\": 0.05}, \"xaxis\": {\"automargin\": true, \"gridcolor\": \"white\", \"linecolor\": \"white\", \"ticks\": \"\", \"title\": {\"standoff\": 15}, \"zerolinecolor\": \"white\", \"zerolinewidth\": 2}, \"yaxis\": {\"automargin\": true, \"gridcolor\": \"white\", \"linecolor\": \"white\", \"ticks\": \"\", \"title\": {\"standoff\": 15}, \"zerolinecolor\": \"white\", \"zerolinewidth\": 2}}}, \"title\": {\"text\": \"Feature Importance\"}, \"xaxis\": {\"tickfont\": {\"size\": 14}, \"title\": {\"font\": {\"size\": 16}, \"text\": \"Features\"}}, \"yaxis\": {\"tickfont\": {\"size\": 14}, \"title\": {\"font\": {\"size\": 16}, \"text\": \"Random Forest Feature Importance\"}}},                        {\"responsive\": true}                    ).then(function(){\n",
       "                            \n",
       "var gd = document.getElementById('6813e7e4-8a83-4587-9b82-47f51d011432');\n",
       "var x = new MutationObserver(function (mutations, observer) {{\n",
       "        var display = window.getComputedStyle(gd).display;\n",
       "        if (!display || display === 'none') {{\n",
       "            console.log([gd, 'removed!']);\n",
       "            Plotly.purge(gd);\n",
       "            observer.disconnect();\n",
       "        }}\n",
       "}});\n",
       "\n",
       "// Listen for the removal of the full notebook cells\n",
       "var notebookContainer = gd.closest('#notebook-container');\n",
       "if (notebookContainer) {{\n",
       "    x.observe(notebookContainer, {childList: true});\n",
       "}}\n",
       "\n",
       "// Listen for the clearing of the current output cell\n",
       "var outputEl = gd.closest('.output');\n",
       "if (outputEl) {{\n",
       "    x.observe(outputEl, {childList: true});\n",
       "}}\n",
       "\n",
       "                        })                };                });            </script>        </div>"
      ]
     },
     "metadata": {},
     "output_type": "display_data"
    }
   ],
   "source": [
    "feature_name = train.columns \n",
    "feature_importance = model.feature_importances_\n",
    "feature_importance\n",
    "\n",
    "fig = go.Figure([go.Bar(x=feature_name, y=feature_importance,  marker_color='Pink')])\n",
    "fig.update_layout(\n",
    "    title='Feature Importance',\n",
    "    xaxis=dict(\n",
    "    title='Features',\n",
    "        titlefont_size=16,\n",
    "        tickfont_size=14\n",
    "    ),\n",
    "    yaxis=dict(\n",
    "        title='Random Forest Feature Importance',\n",
    "        titlefont_size=16,\n",
    "        tickfont_size=14,\n",
    "    ))\n",
    "\n",
    "fig.show()"
   ]
  },
  {
   "cell_type": "code",
   "execution_count": 26,
   "metadata": {},
   "outputs": [
    {
     "data": {
      "text/html": [
       "<div>\n",
       "<style scoped>\n",
       "    .dataframe tbody tr th:only-of-type {\n",
       "        vertical-align: middle;\n",
       "    }\n",
       "\n",
       "    .dataframe tbody tr th {\n",
       "        vertical-align: top;\n",
       "    }\n",
       "\n",
       "    .dataframe thead th {\n",
       "        text-align: right;\n",
       "    }\n",
       "</style>\n",
       "<table border=\"1\" class=\"dataframe\">\n",
       "  <thead>\n",
       "    <tr style=\"text-align: right;\">\n",
       "      <th></th>\n",
       "      <th>Model Score</th>\n",
       "      <th>Mean Absolute Error</th>\n",
       "      <th>Mean Squared Error</th>\n",
       "      <th>Root Mean Squared Error</th>\n",
       "    </tr>\n",
       "  </thead>\n",
       "  <tbody>\n",
       "    <tr>\n",
       "      <th>Linear Regression</th>\n",
       "      <td>0.701747</td>\n",
       "      <td>0.121498</td>\n",
       "      <td>0.022518</td>\n",
       "      <td>0.150061</td>\n",
       "    </tr>\n",
       "    <tr>\n",
       "      <th>Decision Tree</th>\n",
       "      <td>0.420933</td>\n",
       "      <td>0.160292</td>\n",
       "      <td>0.043720</td>\n",
       "      <td>0.209093</td>\n",
       "    </tr>\n",
       "    <tr>\n",
       "      <th>Random Forest</th>\n",
       "      <td>0.581055</td>\n",
       "      <td>0.137744</td>\n",
       "      <td>0.031631</td>\n",
       "      <td>0.177850</td>\n",
       "    </tr>\n",
       "  </tbody>\n",
       "</table>\n",
       "</div>"
      ],
      "text/plain": [
       "                   Model Score  Mean Absolute Error  Mean Squared Error  \\\n",
       "Linear Regression     0.701747             0.121498            0.022518   \n",
       "Decision Tree         0.420933             0.160292            0.043720   \n",
       "Random Forest         0.581055             0.137744            0.031631   \n",
       "\n",
       "                   Root Mean Squared Error  \n",
       "Linear Regression                 0.150061  \n",
       "Decision Tree                     0.209093  \n",
       "Random Forest                     0.177850  "
      ]
     },
     "execution_count": 26,
     "metadata": {},
     "output_type": "execute_result"
    }
   ],
   "source": [
    "#Creating the table with the performance metrics\n",
    "new_list = {'Model Score' : [LRS, DTS, RFS] , 'Mean Absolute Error': [LRMAE,DTMAE, RFMAE], 'Mean Squared Error':[LRMSE, DTMSE, RFMSE], 'Root Mean Squared Error': [LRRMSE, DTRMSE, RFRMSE]}\n",
    "\n",
    "df = pd.DataFrame(new_list, index = ['Linear Regression', 'Decision Tree', 'Random Forest'])\n",
    "df\n",
    "\n"
   ]
  },
  {
   "cell_type": "code",
   "execution_count": 44,
   "metadata": {},
   "outputs": [
    {
     "data": {
      "application/vnd.plotly.v1+json": {
       "config": {
        "plotlyServerURL": "https://plot.ly"
       },
       "data": [
        {
         "name": "Linear Regression",
         "type": "bar",
         "x": [
          "Model Score",
          "Mean Absolute Error",
          "Mean Squared Error",
          "Root Mean Squared Error"
         ],
         "y": [
          0.7017468970345828,
          0.12149785332811694,
          0.022518242447588127,
          0.15006079583818063
         ]
        },
        {
         "name": "Decision Tree",
         "type": "bar",
         "x": [
          "Model Score",
          "Mean Absolute Error",
          "Mean Squared Error",
          "Root Mean Squared Error"
         ],
         "y": [
          0.42093271734875803,
          0.1602919431785714,
          0.0437198384008721,
          0.2090928941902907
         ]
        },
        {
         "name": "Random Forest",
         "type": "bar",
         "x": [
          "Model Score",
          "Mean Absolute Error",
          "Mean Squared Error",
          "Root Mean Squared Error"
         ],
         "y": [
          0.5810545194437894,
          0.13774367965889886,
          0.031630570846332286,
          0.17784985478299464
         ]
        }
       ],
       "layout": {
        "barmode": "group",
        "template": {
         "data": {
          "bar": [
           {
            "error_x": {
             "color": "#2a3f5f"
            },
            "error_y": {
             "color": "#2a3f5f"
            },
            "marker": {
             "line": {
              "color": "#E5ECF6",
              "width": 0.5
             }
            },
            "type": "bar"
           }
          ],
          "barpolar": [
           {
            "marker": {
             "line": {
              "color": "#E5ECF6",
              "width": 0.5
             }
            },
            "type": "barpolar"
           }
          ],
          "carpet": [
           {
            "aaxis": {
             "endlinecolor": "#2a3f5f",
             "gridcolor": "white",
             "linecolor": "white",
             "minorgridcolor": "white",
             "startlinecolor": "#2a3f5f"
            },
            "baxis": {
             "endlinecolor": "#2a3f5f",
             "gridcolor": "white",
             "linecolor": "white",
             "minorgridcolor": "white",
             "startlinecolor": "#2a3f5f"
            },
            "type": "carpet"
           }
          ],
          "choropleth": [
           {
            "colorbar": {
             "outlinewidth": 0,
             "ticks": ""
            },
            "type": "choropleth"
           }
          ],
          "contour": [
           {
            "colorbar": {
             "outlinewidth": 0,
             "ticks": ""
            },
            "colorscale": [
             [
              0,
              "#0d0887"
             ],
             [
              0.1111111111111111,
              "#46039f"
             ],
             [
              0.2222222222222222,
              "#7201a8"
             ],
             [
              0.3333333333333333,
              "#9c179e"
             ],
             [
              0.4444444444444444,
              "#bd3786"
             ],
             [
              0.5555555555555556,
              "#d8576b"
             ],
             [
              0.6666666666666666,
              "#ed7953"
             ],
             [
              0.7777777777777778,
              "#fb9f3a"
             ],
             [
              0.8888888888888888,
              "#fdca26"
             ],
             [
              1,
              "#f0f921"
             ]
            ],
            "type": "contour"
           }
          ],
          "contourcarpet": [
           {
            "colorbar": {
             "outlinewidth": 0,
             "ticks": ""
            },
            "type": "contourcarpet"
           }
          ],
          "heatmap": [
           {
            "colorbar": {
             "outlinewidth": 0,
             "ticks": ""
            },
            "colorscale": [
             [
              0,
              "#0d0887"
             ],
             [
              0.1111111111111111,
              "#46039f"
             ],
             [
              0.2222222222222222,
              "#7201a8"
             ],
             [
              0.3333333333333333,
              "#9c179e"
             ],
             [
              0.4444444444444444,
              "#bd3786"
             ],
             [
              0.5555555555555556,
              "#d8576b"
             ],
             [
              0.6666666666666666,
              "#ed7953"
             ],
             [
              0.7777777777777778,
              "#fb9f3a"
             ],
             [
              0.8888888888888888,
              "#fdca26"
             ],
             [
              1,
              "#f0f921"
             ]
            ],
            "type": "heatmap"
           }
          ],
          "heatmapgl": [
           {
            "colorbar": {
             "outlinewidth": 0,
             "ticks": ""
            },
            "colorscale": [
             [
              0,
              "#0d0887"
             ],
             [
              0.1111111111111111,
              "#46039f"
             ],
             [
              0.2222222222222222,
              "#7201a8"
             ],
             [
              0.3333333333333333,
              "#9c179e"
             ],
             [
              0.4444444444444444,
              "#bd3786"
             ],
             [
              0.5555555555555556,
              "#d8576b"
             ],
             [
              0.6666666666666666,
              "#ed7953"
             ],
             [
              0.7777777777777778,
              "#fb9f3a"
             ],
             [
              0.8888888888888888,
              "#fdca26"
             ],
             [
              1,
              "#f0f921"
             ]
            ],
            "type": "heatmapgl"
           }
          ],
          "histogram": [
           {
            "marker": {
             "colorbar": {
              "outlinewidth": 0,
              "ticks": ""
             }
            },
            "type": "histogram"
           }
          ],
          "histogram2d": [
           {
            "colorbar": {
             "outlinewidth": 0,
             "ticks": ""
            },
            "colorscale": [
             [
              0,
              "#0d0887"
             ],
             [
              0.1111111111111111,
              "#46039f"
             ],
             [
              0.2222222222222222,
              "#7201a8"
             ],
             [
              0.3333333333333333,
              "#9c179e"
             ],
             [
              0.4444444444444444,
              "#bd3786"
             ],
             [
              0.5555555555555556,
              "#d8576b"
             ],
             [
              0.6666666666666666,
              "#ed7953"
             ],
             [
              0.7777777777777778,
              "#fb9f3a"
             ],
             [
              0.8888888888888888,
              "#fdca26"
             ],
             [
              1,
              "#f0f921"
             ]
            ],
            "type": "histogram2d"
           }
          ],
          "histogram2dcontour": [
           {
            "colorbar": {
             "outlinewidth": 0,
             "ticks": ""
            },
            "colorscale": [
             [
              0,
              "#0d0887"
             ],
             [
              0.1111111111111111,
              "#46039f"
             ],
             [
              0.2222222222222222,
              "#7201a8"
             ],
             [
              0.3333333333333333,
              "#9c179e"
             ],
             [
              0.4444444444444444,
              "#bd3786"
             ],
             [
              0.5555555555555556,
              "#d8576b"
             ],
             [
              0.6666666666666666,
              "#ed7953"
             ],
             [
              0.7777777777777778,
              "#fb9f3a"
             ],
             [
              0.8888888888888888,
              "#fdca26"
             ],
             [
              1,
              "#f0f921"
             ]
            ],
            "type": "histogram2dcontour"
           }
          ],
          "mesh3d": [
           {
            "colorbar": {
             "outlinewidth": 0,
             "ticks": ""
            },
            "type": "mesh3d"
           }
          ],
          "parcoords": [
           {
            "line": {
             "colorbar": {
              "outlinewidth": 0,
              "ticks": ""
             }
            },
            "type": "parcoords"
           }
          ],
          "pie": [
           {
            "automargin": true,
            "type": "pie"
           }
          ],
          "scatter": [
           {
            "marker": {
             "colorbar": {
              "outlinewidth": 0,
              "ticks": ""
             }
            },
            "type": "scatter"
           }
          ],
          "scatter3d": [
           {
            "line": {
             "colorbar": {
              "outlinewidth": 0,
              "ticks": ""
             }
            },
            "marker": {
             "colorbar": {
              "outlinewidth": 0,
              "ticks": ""
             }
            },
            "type": "scatter3d"
           }
          ],
          "scattercarpet": [
           {
            "marker": {
             "colorbar": {
              "outlinewidth": 0,
              "ticks": ""
             }
            },
            "type": "scattercarpet"
           }
          ],
          "scattergeo": [
           {
            "marker": {
             "colorbar": {
              "outlinewidth": 0,
              "ticks": ""
             }
            },
            "type": "scattergeo"
           }
          ],
          "scattergl": [
           {
            "marker": {
             "colorbar": {
              "outlinewidth": 0,
              "ticks": ""
             }
            },
            "type": "scattergl"
           }
          ],
          "scattermapbox": [
           {
            "marker": {
             "colorbar": {
              "outlinewidth": 0,
              "ticks": ""
             }
            },
            "type": "scattermapbox"
           }
          ],
          "scatterpolar": [
           {
            "marker": {
             "colorbar": {
              "outlinewidth": 0,
              "ticks": ""
             }
            },
            "type": "scatterpolar"
           }
          ],
          "scatterpolargl": [
           {
            "marker": {
             "colorbar": {
              "outlinewidth": 0,
              "ticks": ""
             }
            },
            "type": "scatterpolargl"
           }
          ],
          "scatterternary": [
           {
            "marker": {
             "colorbar": {
              "outlinewidth": 0,
              "ticks": ""
             }
            },
            "type": "scatterternary"
           }
          ],
          "surface": [
           {
            "colorbar": {
             "outlinewidth": 0,
             "ticks": ""
            },
            "colorscale": [
             [
              0,
              "#0d0887"
             ],
             [
              0.1111111111111111,
              "#46039f"
             ],
             [
              0.2222222222222222,
              "#7201a8"
             ],
             [
              0.3333333333333333,
              "#9c179e"
             ],
             [
              0.4444444444444444,
              "#bd3786"
             ],
             [
              0.5555555555555556,
              "#d8576b"
             ],
             [
              0.6666666666666666,
              "#ed7953"
             ],
             [
              0.7777777777777778,
              "#fb9f3a"
             ],
             [
              0.8888888888888888,
              "#fdca26"
             ],
             [
              1,
              "#f0f921"
             ]
            ],
            "type": "surface"
           }
          ],
          "table": [
           {
            "cells": {
             "fill": {
              "color": "#EBF0F8"
             },
             "line": {
              "color": "white"
             }
            },
            "header": {
             "fill": {
              "color": "#C8D4E3"
             },
             "line": {
              "color": "white"
             }
            },
            "type": "table"
           }
          ]
         },
         "layout": {
          "annotationdefaults": {
           "arrowcolor": "#2a3f5f",
           "arrowhead": 0,
           "arrowwidth": 1
          },
          "coloraxis": {
           "colorbar": {
            "outlinewidth": 0,
            "ticks": ""
           }
          },
          "colorscale": {
           "diverging": [
            [
             0,
             "#8e0152"
            ],
            [
             0.1,
             "#c51b7d"
            ],
            [
             0.2,
             "#de77ae"
            ],
            [
             0.3,
             "#f1b6da"
            ],
            [
             0.4,
             "#fde0ef"
            ],
            [
             0.5,
             "#f7f7f7"
            ],
            [
             0.6,
             "#e6f5d0"
            ],
            [
             0.7,
             "#b8e186"
            ],
            [
             0.8,
             "#7fbc41"
            ],
            [
             0.9,
             "#4d9221"
            ],
            [
             1,
             "#276419"
            ]
           ],
           "sequential": [
            [
             0,
             "#0d0887"
            ],
            [
             0.1111111111111111,
             "#46039f"
            ],
            [
             0.2222222222222222,
             "#7201a8"
            ],
            [
             0.3333333333333333,
             "#9c179e"
            ],
            [
             0.4444444444444444,
             "#bd3786"
            ],
            [
             0.5555555555555556,
             "#d8576b"
            ],
            [
             0.6666666666666666,
             "#ed7953"
            ],
            [
             0.7777777777777778,
             "#fb9f3a"
            ],
            [
             0.8888888888888888,
             "#fdca26"
            ],
            [
             1,
             "#f0f921"
            ]
           ],
           "sequentialminus": [
            [
             0,
             "#0d0887"
            ],
            [
             0.1111111111111111,
             "#46039f"
            ],
            [
             0.2222222222222222,
             "#7201a8"
            ],
            [
             0.3333333333333333,
             "#9c179e"
            ],
            [
             0.4444444444444444,
             "#bd3786"
            ],
            [
             0.5555555555555556,
             "#d8576b"
            ],
            [
             0.6666666666666666,
             "#ed7953"
            ],
            [
             0.7777777777777778,
             "#fb9f3a"
            ],
            [
             0.8888888888888888,
             "#fdca26"
            ],
            [
             1,
             "#f0f921"
            ]
           ]
          },
          "colorway": [
           "#636efa",
           "#EF553B",
           "#00cc96",
           "#ab63fa",
           "#FFA15A",
           "#19d3f3",
           "#FF6692",
           "#B6E880",
           "#FF97FF",
           "#FECB52"
          ],
          "font": {
           "color": "#2a3f5f"
          },
          "geo": {
           "bgcolor": "white",
           "lakecolor": "white",
           "landcolor": "#E5ECF6",
           "showlakes": true,
           "showland": true,
           "subunitcolor": "white"
          },
          "hoverlabel": {
           "align": "left"
          },
          "hovermode": "closest",
          "mapbox": {
           "style": "light"
          },
          "paper_bgcolor": "white",
          "plot_bgcolor": "#E5ECF6",
          "polar": {
           "angularaxis": {
            "gridcolor": "white",
            "linecolor": "white",
            "ticks": ""
           },
           "bgcolor": "#E5ECF6",
           "radialaxis": {
            "gridcolor": "white",
            "linecolor": "white",
            "ticks": ""
           }
          },
          "scene": {
           "xaxis": {
            "backgroundcolor": "#E5ECF6",
            "gridcolor": "white",
            "gridwidth": 2,
            "linecolor": "white",
            "showbackground": true,
            "ticks": "",
            "zerolinecolor": "white"
           },
           "yaxis": {
            "backgroundcolor": "#E5ECF6",
            "gridcolor": "white",
            "gridwidth": 2,
            "linecolor": "white",
            "showbackground": true,
            "ticks": "",
            "zerolinecolor": "white"
           },
           "zaxis": {
            "backgroundcolor": "#E5ECF6",
            "gridcolor": "white",
            "gridwidth": 2,
            "linecolor": "white",
            "showbackground": true,
            "ticks": "",
            "zerolinecolor": "white"
           }
          },
          "shapedefaults": {
           "line": {
            "color": "#2a3f5f"
           }
          },
          "ternary": {
           "aaxis": {
            "gridcolor": "white",
            "linecolor": "white",
            "ticks": ""
           },
           "baxis": {
            "gridcolor": "white",
            "linecolor": "white",
            "ticks": ""
           },
           "bgcolor": "#E5ECF6",
           "caxis": {
            "gridcolor": "white",
            "linecolor": "white",
            "ticks": ""
           }
          },
          "title": {
           "x": 0.05
          },
          "xaxis": {
           "automargin": true,
           "gridcolor": "white",
           "linecolor": "white",
           "ticks": "",
           "title": {
            "standoff": 15
           },
           "zerolinecolor": "white",
           "zerolinewidth": 2
          },
          "yaxis": {
           "automargin": true,
           "gridcolor": "white",
           "linecolor": "white",
           "ticks": "",
           "title": {
            "standoff": 15
           },
           "zerolinecolor": "white",
           "zerolinewidth": 2
          }
         }
        },
        "title": {
         "text": "Model Performance Evaluation"
        },
        "xaxis": {
         "tickfont": {
          "size": 14
         },
         "title": {
          "font": {
           "size": 16
          },
          "text": "Models"
         }
        },
        "yaxis": {
         "tickfont": {
          "size": 14
         },
         "title": {
          "font": {
           "size": 16
          },
          "text": "Scores"
         }
        }
       }
      },
      "text/html": [
       "<div>                            <div id=\"b04216df-2618-4fa7-9d0e-93e5aec842ac\" class=\"plotly-graph-div\" style=\"height:525px; width:100%;\"></div>            <script type=\"text/javascript\">                require([\"plotly\"], function(Plotly) {                    window.PLOTLYENV=window.PLOTLYENV || {};                                    if (document.getElementById(\"b04216df-2618-4fa7-9d0e-93e5aec842ac\")) {                    Plotly.newPlot(                        \"b04216df-2618-4fa7-9d0e-93e5aec842ac\",                        [{\"name\": \"Linear Regression\", \"type\": \"bar\", \"x\": [\"Model Score\", \"Mean Absolute Error\", \"Mean Squared Error\", \"Root Mean Squared Error\"], \"y\": [0.7017468970345828, 0.12149785332811694, 0.022518242447588127, 0.15006079583818063]}, {\"name\": \"Decision Tree\", \"type\": \"bar\", \"x\": [\"Model Score\", \"Mean Absolute Error\", \"Mean Squared Error\", \"Root Mean Squared Error\"], \"y\": [0.42093271734875803, 0.1602919431785714, 0.0437198384008721, 0.2090928941902907]}, {\"name\": \"Random Forest\", \"type\": \"bar\", \"x\": [\"Model Score\", \"Mean Absolute Error\", \"Mean Squared Error\", \"Root Mean Squared Error\"], \"y\": [0.5810545194437894, 0.13774367965889886, 0.031630570846332286, 0.17784985478299464]}],                        {\"barmode\": \"group\", \"template\": {\"data\": {\"bar\": [{\"error_x\": {\"color\": \"#2a3f5f\"}, \"error_y\": {\"color\": \"#2a3f5f\"}, \"marker\": {\"line\": {\"color\": \"#E5ECF6\", \"width\": 0.5}}, \"type\": \"bar\"}], \"barpolar\": [{\"marker\": {\"line\": {\"color\": \"#E5ECF6\", \"width\": 0.5}}, \"type\": \"barpolar\"}], \"carpet\": [{\"aaxis\": {\"endlinecolor\": \"#2a3f5f\", \"gridcolor\": \"white\", \"linecolor\": \"white\", \"minorgridcolor\": \"white\", \"startlinecolor\": \"#2a3f5f\"}, \"baxis\": {\"endlinecolor\": \"#2a3f5f\", \"gridcolor\": \"white\", \"linecolor\": \"white\", \"minorgridcolor\": \"white\", \"startlinecolor\": \"#2a3f5f\"}, \"type\": \"carpet\"}], \"choropleth\": [{\"colorbar\": {\"outlinewidth\": 0, \"ticks\": \"\"}, \"type\": \"choropleth\"}], \"contour\": [{\"colorbar\": {\"outlinewidth\": 0, \"ticks\": \"\"}, \"colorscale\": [[0.0, \"#0d0887\"], [0.1111111111111111, \"#46039f\"], [0.2222222222222222, \"#7201a8\"], [0.3333333333333333, \"#9c179e\"], [0.4444444444444444, \"#bd3786\"], [0.5555555555555556, \"#d8576b\"], [0.6666666666666666, \"#ed7953\"], [0.7777777777777778, \"#fb9f3a\"], [0.8888888888888888, \"#fdca26\"], [1.0, \"#f0f921\"]], \"type\": \"contour\"}], \"contourcarpet\": [{\"colorbar\": {\"outlinewidth\": 0, \"ticks\": \"\"}, \"type\": \"contourcarpet\"}], \"heatmap\": [{\"colorbar\": {\"outlinewidth\": 0, \"ticks\": \"\"}, \"colorscale\": [[0.0, \"#0d0887\"], [0.1111111111111111, \"#46039f\"], [0.2222222222222222, \"#7201a8\"], [0.3333333333333333, \"#9c179e\"], [0.4444444444444444, \"#bd3786\"], [0.5555555555555556, \"#d8576b\"], [0.6666666666666666, \"#ed7953\"], [0.7777777777777778, \"#fb9f3a\"], [0.8888888888888888, \"#fdca26\"], [1.0, \"#f0f921\"]], \"type\": \"heatmap\"}], \"heatmapgl\": [{\"colorbar\": {\"outlinewidth\": 0, \"ticks\": \"\"}, \"colorscale\": [[0.0, \"#0d0887\"], [0.1111111111111111, \"#46039f\"], [0.2222222222222222, \"#7201a8\"], [0.3333333333333333, \"#9c179e\"], [0.4444444444444444, \"#bd3786\"], [0.5555555555555556, \"#d8576b\"], [0.6666666666666666, \"#ed7953\"], [0.7777777777777778, \"#fb9f3a\"], [0.8888888888888888, \"#fdca26\"], [1.0, \"#f0f921\"]], \"type\": \"heatmapgl\"}], \"histogram\": [{\"marker\": {\"colorbar\": {\"outlinewidth\": 0, \"ticks\": \"\"}}, \"type\": \"histogram\"}], \"histogram2d\": [{\"colorbar\": {\"outlinewidth\": 0, \"ticks\": \"\"}, \"colorscale\": [[0.0, \"#0d0887\"], [0.1111111111111111, \"#46039f\"], [0.2222222222222222, \"#7201a8\"], [0.3333333333333333, \"#9c179e\"], [0.4444444444444444, \"#bd3786\"], [0.5555555555555556, \"#d8576b\"], [0.6666666666666666, \"#ed7953\"], [0.7777777777777778, \"#fb9f3a\"], [0.8888888888888888, \"#fdca26\"], [1.0, \"#f0f921\"]], \"type\": \"histogram2d\"}], \"histogram2dcontour\": [{\"colorbar\": {\"outlinewidth\": 0, \"ticks\": \"\"}, \"colorscale\": [[0.0, \"#0d0887\"], [0.1111111111111111, \"#46039f\"], [0.2222222222222222, \"#7201a8\"], [0.3333333333333333, \"#9c179e\"], [0.4444444444444444, \"#bd3786\"], [0.5555555555555556, \"#d8576b\"], [0.6666666666666666, \"#ed7953\"], [0.7777777777777778, \"#fb9f3a\"], [0.8888888888888888, \"#fdca26\"], [1.0, \"#f0f921\"]], \"type\": \"histogram2dcontour\"}], \"mesh3d\": [{\"colorbar\": {\"outlinewidth\": 0, \"ticks\": \"\"}, \"type\": \"mesh3d\"}], \"parcoords\": [{\"line\": {\"colorbar\": {\"outlinewidth\": 0, \"ticks\": \"\"}}, \"type\": \"parcoords\"}], \"pie\": [{\"automargin\": true, \"type\": \"pie\"}], \"scatter\": [{\"marker\": {\"colorbar\": {\"outlinewidth\": 0, \"ticks\": \"\"}}, \"type\": \"scatter\"}], \"scatter3d\": [{\"line\": {\"colorbar\": {\"outlinewidth\": 0, \"ticks\": \"\"}}, \"marker\": {\"colorbar\": {\"outlinewidth\": 0, \"ticks\": \"\"}}, \"type\": \"scatter3d\"}], \"scattercarpet\": [{\"marker\": {\"colorbar\": {\"outlinewidth\": 0, \"ticks\": \"\"}}, \"type\": \"scattercarpet\"}], \"scattergeo\": [{\"marker\": {\"colorbar\": {\"outlinewidth\": 0, \"ticks\": \"\"}}, \"type\": \"scattergeo\"}], \"scattergl\": [{\"marker\": {\"colorbar\": {\"outlinewidth\": 0, \"ticks\": \"\"}}, \"type\": \"scattergl\"}], \"scattermapbox\": [{\"marker\": {\"colorbar\": {\"outlinewidth\": 0, \"ticks\": \"\"}}, \"type\": \"scattermapbox\"}], \"scatterpolar\": [{\"marker\": {\"colorbar\": {\"outlinewidth\": 0, \"ticks\": \"\"}}, \"type\": \"scatterpolar\"}], \"scatterpolargl\": [{\"marker\": {\"colorbar\": {\"outlinewidth\": 0, \"ticks\": \"\"}}, \"type\": \"scatterpolargl\"}], \"scatterternary\": [{\"marker\": {\"colorbar\": {\"outlinewidth\": 0, \"ticks\": \"\"}}, \"type\": \"scatterternary\"}], \"surface\": [{\"colorbar\": {\"outlinewidth\": 0, \"ticks\": \"\"}, \"colorscale\": [[0.0, \"#0d0887\"], [0.1111111111111111, \"#46039f\"], [0.2222222222222222, \"#7201a8\"], [0.3333333333333333, \"#9c179e\"], [0.4444444444444444, \"#bd3786\"], [0.5555555555555556, \"#d8576b\"], [0.6666666666666666, \"#ed7953\"], [0.7777777777777778, \"#fb9f3a\"], [0.8888888888888888, \"#fdca26\"], [1.0, \"#f0f921\"]], \"type\": \"surface\"}], \"table\": [{\"cells\": {\"fill\": {\"color\": \"#EBF0F8\"}, \"line\": {\"color\": \"white\"}}, \"header\": {\"fill\": {\"color\": \"#C8D4E3\"}, \"line\": {\"color\": \"white\"}}, \"type\": \"table\"}]}, \"layout\": {\"annotationdefaults\": {\"arrowcolor\": \"#2a3f5f\", \"arrowhead\": 0, \"arrowwidth\": 1}, \"coloraxis\": {\"colorbar\": {\"outlinewidth\": 0, \"ticks\": \"\"}}, \"colorscale\": {\"diverging\": [[0, \"#8e0152\"], [0.1, \"#c51b7d\"], [0.2, \"#de77ae\"], [0.3, \"#f1b6da\"], [0.4, \"#fde0ef\"], [0.5, \"#f7f7f7\"], [0.6, \"#e6f5d0\"], [0.7, \"#b8e186\"], [0.8, \"#7fbc41\"], [0.9, \"#4d9221\"], [1, \"#276419\"]], \"sequential\": [[0.0, \"#0d0887\"], [0.1111111111111111, \"#46039f\"], [0.2222222222222222, \"#7201a8\"], [0.3333333333333333, \"#9c179e\"], [0.4444444444444444, \"#bd3786\"], [0.5555555555555556, \"#d8576b\"], [0.6666666666666666, \"#ed7953\"], [0.7777777777777778, \"#fb9f3a\"], [0.8888888888888888, \"#fdca26\"], [1.0, \"#f0f921\"]], \"sequentialminus\": [[0.0, \"#0d0887\"], [0.1111111111111111, \"#46039f\"], [0.2222222222222222, \"#7201a8\"], [0.3333333333333333, \"#9c179e\"], [0.4444444444444444, \"#bd3786\"], [0.5555555555555556, \"#d8576b\"], [0.6666666666666666, \"#ed7953\"], [0.7777777777777778, \"#fb9f3a\"], [0.8888888888888888, \"#fdca26\"], [1.0, \"#f0f921\"]]}, \"colorway\": [\"#636efa\", \"#EF553B\", \"#00cc96\", \"#ab63fa\", \"#FFA15A\", \"#19d3f3\", \"#FF6692\", \"#B6E880\", \"#FF97FF\", \"#FECB52\"], \"font\": {\"color\": \"#2a3f5f\"}, \"geo\": {\"bgcolor\": \"white\", \"lakecolor\": \"white\", \"landcolor\": \"#E5ECF6\", \"showlakes\": true, \"showland\": true, \"subunitcolor\": \"white\"}, \"hoverlabel\": {\"align\": \"left\"}, \"hovermode\": \"closest\", \"mapbox\": {\"style\": \"light\"}, \"paper_bgcolor\": \"white\", \"plot_bgcolor\": \"#E5ECF6\", \"polar\": {\"angularaxis\": {\"gridcolor\": \"white\", \"linecolor\": \"white\", \"ticks\": \"\"}, \"bgcolor\": \"#E5ECF6\", \"radialaxis\": {\"gridcolor\": \"white\", \"linecolor\": \"white\", \"ticks\": \"\"}}, \"scene\": {\"xaxis\": {\"backgroundcolor\": \"#E5ECF6\", \"gridcolor\": \"white\", \"gridwidth\": 2, \"linecolor\": \"white\", \"showbackground\": true, \"ticks\": \"\", \"zerolinecolor\": \"white\"}, \"yaxis\": {\"backgroundcolor\": \"#E5ECF6\", \"gridcolor\": \"white\", \"gridwidth\": 2, \"linecolor\": \"white\", \"showbackground\": true, \"ticks\": \"\", \"zerolinecolor\": \"white\"}, \"zaxis\": {\"backgroundcolor\": \"#E5ECF6\", \"gridcolor\": \"white\", \"gridwidth\": 2, \"linecolor\": \"white\", \"showbackground\": true, \"ticks\": \"\", \"zerolinecolor\": \"white\"}}, \"shapedefaults\": {\"line\": {\"color\": \"#2a3f5f\"}}, \"ternary\": {\"aaxis\": {\"gridcolor\": \"white\", \"linecolor\": \"white\", \"ticks\": \"\"}, \"baxis\": {\"gridcolor\": \"white\", \"linecolor\": \"white\", \"ticks\": \"\"}, \"bgcolor\": \"#E5ECF6\", \"caxis\": {\"gridcolor\": \"white\", \"linecolor\": \"white\", \"ticks\": \"\"}}, \"title\": {\"x\": 0.05}, \"xaxis\": {\"automargin\": true, \"gridcolor\": \"white\", \"linecolor\": \"white\", \"ticks\": \"\", \"title\": {\"standoff\": 15}, \"zerolinecolor\": \"white\", \"zerolinewidth\": 2}, \"yaxis\": {\"automargin\": true, \"gridcolor\": \"white\", \"linecolor\": \"white\", \"ticks\": \"\", \"title\": {\"standoff\": 15}, \"zerolinecolor\": \"white\", \"zerolinewidth\": 2}}}, \"title\": {\"text\": \"Model Performance Evaluation\"}, \"xaxis\": {\"tickfont\": {\"size\": 14}, \"title\": {\"font\": {\"size\": 16}, \"text\": \"Models\"}}, \"yaxis\": {\"tickfont\": {\"size\": 14}, \"title\": {\"font\": {\"size\": 16}, \"text\": \"Scores\"}}},                        {\"responsive\": true}                    ).then(function(){\n",
       "                            \n",
       "var gd = document.getElementById('b04216df-2618-4fa7-9d0e-93e5aec842ac');\n",
       "var x = new MutationObserver(function (mutations, observer) {{\n",
       "        var display = window.getComputedStyle(gd).display;\n",
       "        if (!display || display === 'none') {{\n",
       "            console.log([gd, 'removed!']);\n",
       "            Plotly.purge(gd);\n",
       "            observer.disconnect();\n",
       "        }}\n",
       "}});\n",
       "\n",
       "// Listen for the removal of the full notebook cells\n",
       "var notebookContainer = gd.closest('#notebook-container');\n",
       "if (notebookContainer) {{\n",
       "    x.observe(notebookContainer, {childList: true});\n",
       "}}\n",
       "\n",
       "// Listen for the clearing of the current output cell\n",
       "var outputEl = gd.closest('.output');\n",
       "if (outputEl) {{\n",
       "    x.observe(outputEl, {childList: true});\n",
       "}}\n",
       "\n",
       "                        })                };                });            </script>        </div>"
      ]
     },
     "metadata": {},
     "output_type": "display_data"
    }
   ],
   "source": [
    "Metrics = ['Model Score', 'Mean Absolute Error', 'Mean Squared Error', 'Root Mean Squared Error']\n",
    "\n",
    "fig = go.Figure(data=[\n",
    "    go.Bar(name='Linear Regression', x=Metrics, y=[new_list['Model Score'][0], new_list[\"Mean Absolute Error\"][0], new_list[\"Mean Squared Error\"][0], new_list[\"Root Mean Squared Error\"][0]]),\n",
    "    go.Bar(name='Decision Tree', x=Metrics, y=[new_list['Model Score'][1], new_list[\"Mean Absolute Error\"][1], new_list[\"Mean Squared Error\"][1], new_list[\"Root Mean Squared Error\"][1]]),\n",
    "    go.Bar(name='Random Forest', x=Metrics, y=[new_list['Model Score'][2], new_list[\"Mean Absolute Error\"][2], new_list[\"Mean Squared Error\"][2], new_list['Root Mean Squared Error'][2]])\n",
    "])\n",
    "\n",
    "fig.update_layout(\n",
    "    barmode='group',\n",
    "    title='Model Performance Evaluation',\n",
    "    xaxis=dict(\n",
    "    title='Models',\n",
    "        titlefont_size=16,\n",
    "        tickfont_size=14\n",
    "    ),\n",
    "    yaxis=dict(\n",
    "        title='Scores',\n",
    "        titlefont_size=16,\n",
    "        tickfont_size=14,\n",
    "    ))\n",
    "\n",
    "\n",
    "\n",
    "fig.show()"
   ]
  }
 ],
 "metadata": {
  "kernelspec": {
   "display_name": "Python 3",
   "language": "python",
   "name": "python3"
  },
  "language_info": {
   "codemirror_mode": {
    "name": "ipython",
    "version": 3
   },
   "file_extension": ".py",
   "mimetype": "text/x-python",
   "name": "python",
   "nbconvert_exporter": "python",
   "pygments_lexer": "ipython3",
   "version": "3.7.6"
  }
 },
 "nbformat": 4,
 "nbformat_minor": 4
}
